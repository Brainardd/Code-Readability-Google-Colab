{
  "nbformat": 4,
  "nbformat_minor": 0,
  "metadata": {
    "colab": {
      "provenance": []
    },
    "kernelspec": {
      "name": "python3",
      "display_name": "Python 3"
    },
    "language_info": {
      "name": "python"
    }
  },
  "cells": [
    {
      "cell_type": "code",
      "source": [
        "# Install this, for some reason, google colab doesn't have this on their dependencies.\n",
        "!pip install pylint"
      ],
      "metadata": {
        "colab": {
          "base_uri": "https://localhost:8080/"
        },
        "id": "KvwhhguqVGyV",
        "outputId": "2c653765-2445-4c0a-81f2-4057e7b141f0"
      },
      "execution_count": 7,
      "outputs": [
        {
          "output_type": "stream",
          "name": "stdout",
          "text": [
            "Collecting pylint\n",
            "  Downloading pylint-3.3.5-py3-none-any.whl.metadata (12 kB)\n",
            "Collecting dill>=0.3.6 (from pylint)\n",
            "  Downloading dill-0.3.9-py3-none-any.whl.metadata (10 kB)\n",
            "Requirement already satisfied: platformdirs>=2.2.0 in /usr/local/lib/python3.11/dist-packages (from pylint) (4.3.6)\n",
            "Collecting astroid<=3.4.0-dev0,>=3.3.8 (from pylint)\n",
            "  Downloading astroid-3.3.9-py3-none-any.whl.metadata (4.5 kB)\n",
            "Collecting isort!=5.13.0,<7,>=4.2.5 (from pylint)\n",
            "  Downloading isort-6.0.1-py3-none-any.whl.metadata (11 kB)\n",
            "Collecting mccabe<0.8,>=0.6 (from pylint)\n",
            "  Downloading mccabe-0.7.0-py2.py3-none-any.whl.metadata (5.0 kB)\n",
            "Collecting tomlkit>=0.10.1 (from pylint)\n",
            "  Downloading tomlkit-0.13.2-py3-none-any.whl.metadata (2.7 kB)\n",
            "Downloading pylint-3.3.5-py3-none-any.whl (522 kB)\n",
            "\u001b[2K   \u001b[90m━━━━━━━━━━━━━━━━━━━━━━━━━━━━━━━━━━━━━━━━\u001b[0m \u001b[32m522.2/522.2 kB\u001b[0m \u001b[31m20.0 MB/s\u001b[0m eta \u001b[36m0:00:00\u001b[0m\n",
            "\u001b[?25hDownloading astroid-3.3.9-py3-none-any.whl (275 kB)\n",
            "\u001b[2K   \u001b[90m━━━━━━━━━━━━━━━━━━━━━━━━━━━━━━━━━━━━━━━━\u001b[0m \u001b[32m275.3/275.3 kB\u001b[0m \u001b[31m17.4 MB/s\u001b[0m eta \u001b[36m0:00:00\u001b[0m\n",
            "\u001b[?25hDownloading dill-0.3.9-py3-none-any.whl (119 kB)\n",
            "\u001b[2K   \u001b[90m━━━━━━━━━━━━━━━━━━━━━━━━━━━━━━━━━━━━━━━━\u001b[0m \u001b[32m119.4/119.4 kB\u001b[0m \u001b[31m9.7 MB/s\u001b[0m eta \u001b[36m0:00:00\u001b[0m\n",
            "\u001b[?25hDownloading isort-6.0.1-py3-none-any.whl (94 kB)\n",
            "\u001b[2K   \u001b[90m━━━━━━━━━━━━━━━━━━━━━━━━━━━━━━━━━━━━━━━━\u001b[0m \u001b[32m94.2/94.2 kB\u001b[0m \u001b[31m7.7 MB/s\u001b[0m eta \u001b[36m0:00:00\u001b[0m\n",
            "\u001b[?25hDownloading mccabe-0.7.0-py2.py3-none-any.whl (7.3 kB)\n",
            "Downloading tomlkit-0.13.2-py3-none-any.whl (37 kB)\n",
            "Installing collected packages: tomlkit, mccabe, isort, dill, astroid, pylint\n",
            "Successfully installed astroid-3.3.9 dill-0.3.9 isort-6.0.1 mccabe-0.7.0 pylint-3.3.5 tomlkit-0.13.2\n"
          ]
        }
      ]
    },
    {
      "cell_type": "markdown",
      "source": [
        "# Imports"
      ],
      "metadata": {
        "id": "0vJPM6tha4Ee"
      }
    },
    {
      "cell_type": "code",
      "execution_count": 8,
      "metadata": {
        "id": "bLI5sbt4BKYQ"
      },
      "outputs": [],
      "source": [
        "import numpy as np\n",
        "import pandas as pd\n",
        "import tensorflow as tf\n",
        "from tensorflow.keras.models import Model\n",
        "from tensorflow.keras.layers import Input, Embedding, Conv1D, MaxPooling1D, Flatten, Dense, Dropout, Concatenate, GlobalMaxPooling1D, BatchNormalization\n",
        "from tensorflow.keras.preprocessing.text import Tokenizer\n",
        "from tensorflow.keras.preprocessing.sequence import pad_sequences\n",
        "from tensorflow.keras.callbacks import EarlyStopping\n",
        "from tensorflow.keras.regularizers import l2\n",
        "from tensorflow.keras.optimizers import Adam, RMSprop\n",
        "from tensorflow.keras.optimizers.schedules import ExponentialDecay\n",
        "from sklearn.model_selection import train_test_split\n",
        "from sklearn.utils.class_weight import compute_class_weight\n",
        "import re\n",
        "from io import BytesIO\n",
        "from tokenize import tokenize, COMMENT, NL\n",
        "import pickle\n",
        "import pylint\n",
        "import subprocess\n",
        "import os\n",
        "import tempfile\n",
        "import timeit\n",
        "import sys\n",
        "import ast"
      ]
    },
    {
      "cell_type": "markdown",
      "source": [
        "# Dataset for Code Readability\n",
        "\n",
        "https://www.kaggle.com/datasets/paakhim10/code-snippets-insights-and-readability"
      ],
      "metadata": {
        "id": "YHoKP_e0a6gu"
      }
    },
    {
      "cell_type": "code",
      "source": [
        "# load original dataset that was gathered for Phaaki\n",
        "df_temp = pd.read_csv('data_python.csv')\n",
        "\n",
        "# remove other non-needed columns\n",
        "df_temp = df_temp[['python_solutions', 'readability']]\n",
        "\n",
        "# change readability to binary\n",
        "df_temp['label'] = (df_temp['readability'] > 2.4).astype(int) #2.4 as the most reasonable threshold\n",
        "\n",
        "# remove main readability column\n",
        "df_temp = df_temp[['python_solutions', 'label']]\n",
        "\n",
        "# extract python codes \"python_solution\" and labels\n",
        "code_snippets = df_temp['python_solutions'].astype(str).tolist()\n",
        "labels = df_temp['label'].values\n",
        "\n",
        "# export incomplete data for code generating\n",
        "fixed_file_path = \"data_python_incomplete.csv\"\n",
        "df_temp.to_csv(fixed_file_path, index=False)"
      ],
      "metadata": {
        "id": "DY8_A2kPBcJE",
        "colab": {
          "base_uri": "https://localhost:8080/"
        },
        "outputId": "d823706a-c0fc-4759-87b9-23ed30ea3416"
      },
      "execution_count": 11,
      "outputs": [
        {
          "output_type": "stream",
          "name": "stderr",
          "text": [
            "<ipython-input-11-18b59ac3e65d>:8: SettingWithCopyWarning: \n",
            "A value is trying to be set on a copy of a slice from a DataFrame.\n",
            "Try using .loc[row_indexer,col_indexer] = value instead\n",
            "\n",
            "See the caveats in the documentation: https://pandas.pydata.org/pandas-docs/stable/user_guide/indexing.html#returning-a-view-versus-a-copy\n",
            "  df_temp['label'] = (df_temp['readability'] > 2.4).astype(int) #2.4 as the most reasonable threshold\n"
          ]
        }
      ]
    },
    {
      "cell_type": "markdown",
      "source": [
        "After, export the \"data_python_incomplete\" and insert in the code generator.\n",
        "https://colab.research.google.com/drive/1EqmokAWMewjHJKkUu4wYmFfRW8vaT_VS?usp=sharing"
      ],
      "metadata": {
        "id": "ZehhLGmCy9Wi"
      }
    },
    {
      "cell_type": "markdown",
      "source": [
        "### Import the Python Complete from Code Generator"
      ],
      "metadata": {
        "id": "80Szz-Rpxf91"
      }
    },
    {
      "cell_type": "code",
      "source": [
        "# load complete data\n",
        "df = pd.read_csv('data_python_complete.csv')\n",
        "\n",
        "# keep important columns\n",
        "df = df[['python_solutions', 'label']]\n",
        "\n",
        "# check if labels are 0 and 1\n",
        "df['label'] = df['label'].astype(int)\n",
        "\n",
        "# extract python codes and labels\n",
        "pycode = df['python_solutions'].astype(str).tolist()\n",
        "labels = df['label'].values"
      ],
      "metadata": {
        "id": "qhRhX8QCBfMH"
      },
      "execution_count": 12,
      "outputs": []
    },
    {
      "cell_type": "code",
      "source": [
        "df.head()"
      ],
      "metadata": {
        "colab": {
          "base_uri": "https://localhost:8080/",
          "height": 206
        },
        "id": "XtSgwgGr56Dd",
        "outputId": "34327e9a-24ba-490b-f7e8-f1959b1a416f"
      },
      "execution_count": 13,
      "outputs": [
        {
          "output_type": "execute_result",
          "data": {
            "text/plain": [
              "                                    python_solutions  label\n",
              "0  class Solution:\\n    def twoSum(self, nums: Li...      1\n",
              "1  class Solution:\\n    def lengthOfLongestSubstr...      1\n",
              "2  class Solution:\\n    def findMedianSortedArray...      1\n",
              "3  class Solution:\\n    def longestPalindrome(sel...      1\n",
              "4  class Solution:\\n    def convert(self, s: str,...      1"
            ],
            "text/html": [
              "\n",
              "  <div id=\"df-cf693e20-106e-49b9-bdc2-5c178f927f62\" class=\"colab-df-container\">\n",
              "    <div>\n",
              "<style scoped>\n",
              "    .dataframe tbody tr th:only-of-type {\n",
              "        vertical-align: middle;\n",
              "    }\n",
              "\n",
              "    .dataframe tbody tr th {\n",
              "        vertical-align: top;\n",
              "    }\n",
              "\n",
              "    .dataframe thead th {\n",
              "        text-align: right;\n",
              "    }\n",
              "</style>\n",
              "<table border=\"1\" class=\"dataframe\">\n",
              "  <thead>\n",
              "    <tr style=\"text-align: right;\">\n",
              "      <th></th>\n",
              "      <th>python_solutions</th>\n",
              "      <th>label</th>\n",
              "    </tr>\n",
              "  </thead>\n",
              "  <tbody>\n",
              "    <tr>\n",
              "      <th>0</th>\n",
              "      <td>class Solution:\\n    def twoSum(self, nums: Li...</td>\n",
              "      <td>1</td>\n",
              "    </tr>\n",
              "    <tr>\n",
              "      <th>1</th>\n",
              "      <td>class Solution:\\n    def lengthOfLongestSubstr...</td>\n",
              "      <td>1</td>\n",
              "    </tr>\n",
              "    <tr>\n",
              "      <th>2</th>\n",
              "      <td>class Solution:\\n    def findMedianSortedArray...</td>\n",
              "      <td>1</td>\n",
              "    </tr>\n",
              "    <tr>\n",
              "      <th>3</th>\n",
              "      <td>class Solution:\\n    def longestPalindrome(sel...</td>\n",
              "      <td>1</td>\n",
              "    </tr>\n",
              "    <tr>\n",
              "      <th>4</th>\n",
              "      <td>class Solution:\\n    def convert(self, s: str,...</td>\n",
              "      <td>1</td>\n",
              "    </tr>\n",
              "  </tbody>\n",
              "</table>\n",
              "</div>\n",
              "    <div class=\"colab-df-buttons\">\n",
              "\n",
              "  <div class=\"colab-df-container\">\n",
              "    <button class=\"colab-df-convert\" onclick=\"convertToInteractive('df-cf693e20-106e-49b9-bdc2-5c178f927f62')\"\n",
              "            title=\"Convert this dataframe to an interactive table.\"\n",
              "            style=\"display:none;\">\n",
              "\n",
              "  <svg xmlns=\"http://www.w3.org/2000/svg\" height=\"24px\" viewBox=\"0 -960 960 960\">\n",
              "    <path d=\"M120-120v-720h720v720H120Zm60-500h600v-160H180v160Zm220 220h160v-160H400v160Zm0 220h160v-160H400v160ZM180-400h160v-160H180v160Zm440 0h160v-160H620v160ZM180-180h160v-160H180v160Zm440 0h160v-160H620v160Z\"/>\n",
              "  </svg>\n",
              "    </button>\n",
              "\n",
              "  <style>\n",
              "    .colab-df-container {\n",
              "      display:flex;\n",
              "      gap: 12px;\n",
              "    }\n",
              "\n",
              "    .colab-df-convert {\n",
              "      background-color: #E8F0FE;\n",
              "      border: none;\n",
              "      border-radius: 50%;\n",
              "      cursor: pointer;\n",
              "      display: none;\n",
              "      fill: #1967D2;\n",
              "      height: 32px;\n",
              "      padding: 0 0 0 0;\n",
              "      width: 32px;\n",
              "    }\n",
              "\n",
              "    .colab-df-convert:hover {\n",
              "      background-color: #E2EBFA;\n",
              "      box-shadow: 0px 1px 2px rgba(60, 64, 67, 0.3), 0px 1px 3px 1px rgba(60, 64, 67, 0.15);\n",
              "      fill: #174EA6;\n",
              "    }\n",
              "\n",
              "    .colab-df-buttons div {\n",
              "      margin-bottom: 4px;\n",
              "    }\n",
              "\n",
              "    [theme=dark] .colab-df-convert {\n",
              "      background-color: #3B4455;\n",
              "      fill: #D2E3FC;\n",
              "    }\n",
              "\n",
              "    [theme=dark] .colab-df-convert:hover {\n",
              "      background-color: #434B5C;\n",
              "      box-shadow: 0px 1px 3px 1px rgba(0, 0, 0, 0.15);\n",
              "      filter: drop-shadow(0px 1px 2px rgba(0, 0, 0, 0.3));\n",
              "      fill: #FFFFFF;\n",
              "    }\n",
              "  </style>\n",
              "\n",
              "    <script>\n",
              "      const buttonEl =\n",
              "        document.querySelector('#df-cf693e20-106e-49b9-bdc2-5c178f927f62 button.colab-df-convert');\n",
              "      buttonEl.style.display =\n",
              "        google.colab.kernel.accessAllowed ? 'block' : 'none';\n",
              "\n",
              "      async function convertToInteractive(key) {\n",
              "        const element = document.querySelector('#df-cf693e20-106e-49b9-bdc2-5c178f927f62');\n",
              "        const dataTable =\n",
              "          await google.colab.kernel.invokeFunction('convertToInteractive',\n",
              "                                                    [key], {});\n",
              "        if (!dataTable) return;\n",
              "\n",
              "        const docLinkHtml = 'Like what you see? Visit the ' +\n",
              "          '<a target=\"_blank\" href=https://colab.research.google.com/notebooks/data_table.ipynb>data table notebook</a>'\n",
              "          + ' to learn more about interactive tables.';\n",
              "        element.innerHTML = '';\n",
              "        dataTable['output_type'] = 'display_data';\n",
              "        await google.colab.output.renderOutput(dataTable, element);\n",
              "        const docLink = document.createElement('div');\n",
              "        docLink.innerHTML = docLinkHtml;\n",
              "        element.appendChild(docLink);\n",
              "      }\n",
              "    </script>\n",
              "  </div>\n",
              "\n",
              "\n",
              "<div id=\"df-51f5c273-e33f-4af4-aa92-15719b96df43\">\n",
              "  <button class=\"colab-df-quickchart\" onclick=\"quickchart('df-51f5c273-e33f-4af4-aa92-15719b96df43')\"\n",
              "            title=\"Suggest charts\"\n",
              "            style=\"display:none;\">\n",
              "\n",
              "<svg xmlns=\"http://www.w3.org/2000/svg\" height=\"24px\"viewBox=\"0 0 24 24\"\n",
              "     width=\"24px\">\n",
              "    <g>\n",
              "        <path d=\"M19 3H5c-1.1 0-2 .9-2 2v14c0 1.1.9 2 2 2h14c1.1 0 2-.9 2-2V5c0-1.1-.9-2-2-2zM9 17H7v-7h2v7zm4 0h-2V7h2v10zm4 0h-2v-4h2v4z\"/>\n",
              "    </g>\n",
              "</svg>\n",
              "  </button>\n",
              "\n",
              "<style>\n",
              "  .colab-df-quickchart {\n",
              "      --bg-color: #E8F0FE;\n",
              "      --fill-color: #1967D2;\n",
              "      --hover-bg-color: #E2EBFA;\n",
              "      --hover-fill-color: #174EA6;\n",
              "      --disabled-fill-color: #AAA;\n",
              "      --disabled-bg-color: #DDD;\n",
              "  }\n",
              "\n",
              "  [theme=dark] .colab-df-quickchart {\n",
              "      --bg-color: #3B4455;\n",
              "      --fill-color: #D2E3FC;\n",
              "      --hover-bg-color: #434B5C;\n",
              "      --hover-fill-color: #FFFFFF;\n",
              "      --disabled-bg-color: #3B4455;\n",
              "      --disabled-fill-color: #666;\n",
              "  }\n",
              "\n",
              "  .colab-df-quickchart {\n",
              "    background-color: var(--bg-color);\n",
              "    border: none;\n",
              "    border-radius: 50%;\n",
              "    cursor: pointer;\n",
              "    display: none;\n",
              "    fill: var(--fill-color);\n",
              "    height: 32px;\n",
              "    padding: 0;\n",
              "    width: 32px;\n",
              "  }\n",
              "\n",
              "  .colab-df-quickchart:hover {\n",
              "    background-color: var(--hover-bg-color);\n",
              "    box-shadow: 0 1px 2px rgba(60, 64, 67, 0.3), 0 1px 3px 1px rgba(60, 64, 67, 0.15);\n",
              "    fill: var(--button-hover-fill-color);\n",
              "  }\n",
              "\n",
              "  .colab-df-quickchart-complete:disabled,\n",
              "  .colab-df-quickchart-complete:disabled:hover {\n",
              "    background-color: var(--disabled-bg-color);\n",
              "    fill: var(--disabled-fill-color);\n",
              "    box-shadow: none;\n",
              "  }\n",
              "\n",
              "  .colab-df-spinner {\n",
              "    border: 2px solid var(--fill-color);\n",
              "    border-color: transparent;\n",
              "    border-bottom-color: var(--fill-color);\n",
              "    animation:\n",
              "      spin 1s steps(1) infinite;\n",
              "  }\n",
              "\n",
              "  @keyframes spin {\n",
              "    0% {\n",
              "      border-color: transparent;\n",
              "      border-bottom-color: var(--fill-color);\n",
              "      border-left-color: var(--fill-color);\n",
              "    }\n",
              "    20% {\n",
              "      border-color: transparent;\n",
              "      border-left-color: var(--fill-color);\n",
              "      border-top-color: var(--fill-color);\n",
              "    }\n",
              "    30% {\n",
              "      border-color: transparent;\n",
              "      border-left-color: var(--fill-color);\n",
              "      border-top-color: var(--fill-color);\n",
              "      border-right-color: var(--fill-color);\n",
              "    }\n",
              "    40% {\n",
              "      border-color: transparent;\n",
              "      border-right-color: var(--fill-color);\n",
              "      border-top-color: var(--fill-color);\n",
              "    }\n",
              "    60% {\n",
              "      border-color: transparent;\n",
              "      border-right-color: var(--fill-color);\n",
              "    }\n",
              "    80% {\n",
              "      border-color: transparent;\n",
              "      border-right-color: var(--fill-color);\n",
              "      border-bottom-color: var(--fill-color);\n",
              "    }\n",
              "    90% {\n",
              "      border-color: transparent;\n",
              "      border-bottom-color: var(--fill-color);\n",
              "    }\n",
              "  }\n",
              "</style>\n",
              "\n",
              "  <script>\n",
              "    async function quickchart(key) {\n",
              "      const quickchartButtonEl =\n",
              "        document.querySelector('#' + key + ' button');\n",
              "      quickchartButtonEl.disabled = true;  // To prevent multiple clicks.\n",
              "      quickchartButtonEl.classList.add('colab-df-spinner');\n",
              "      try {\n",
              "        const charts = await google.colab.kernel.invokeFunction(\n",
              "            'suggestCharts', [key], {});\n",
              "      } catch (error) {\n",
              "        console.error('Error during call to suggestCharts:', error);\n",
              "      }\n",
              "      quickchartButtonEl.classList.remove('colab-df-spinner');\n",
              "      quickchartButtonEl.classList.add('colab-df-quickchart-complete');\n",
              "    }\n",
              "    (() => {\n",
              "      let quickchartButtonEl =\n",
              "        document.querySelector('#df-51f5c273-e33f-4af4-aa92-15719b96df43 button');\n",
              "      quickchartButtonEl.style.display =\n",
              "        google.colab.kernel.accessAllowed ? 'block' : 'none';\n",
              "    })();\n",
              "  </script>\n",
              "</div>\n",
              "\n",
              "    </div>\n",
              "  </div>\n"
            ],
            "application/vnd.google.colaboratory.intrinsic+json": {
              "type": "dataframe",
              "variable_name": "df",
              "summary": "{\n  \"name\": \"df\",\n  \"rows\": 2312,\n  \"fields\": [\n    {\n      \"column\": \"python_solutions\",\n      \"properties\": {\n        \"dtype\": \"string\",\n        \"num_unique_values\": 2312,\n        \"samples\": [\n          \"class Solution:\\n    def countTime(self, time: str) -> int:\\n        if '?' not in time: return 1\\n        hh,mm=time.split(':')\\n        tH,th=hh\\n        tM,tm=mm\\n        answ=0\\n        d='0123456789'\\n        for H in d:\\n            for h in d:\\n                for M in d:\\n                    for m in d:\\n                        Hh=int(H+h)\\n                        Mm=int(M+m)\\n                        if Hh<24 and Mm<60:\\n                            if H!=tH!='?' or h!=th!='?' or M!=tM!='?' or m!=tm!='?': continue\\n                            answ+=1\\n                            \\n        return answ\",\n          \"class Solution:\\n    def pushDominoes(self, dominoes: str) -> str:\\n        mp = [0]*len(dominoes)\\n        ii = len(dominoes)\\n        for i in reversed(range(len(dominoes))): \\n            if dominoes[i] != \\\".\\\": ii = i \\n            mp[i] = ii \\n            \\n        ans = []\\n        ii = -1 \\n        for i, x in enumerate(dominoes): \\n            if dominoes[i] in \\\"LR\\\": \\n                ans.append(dominoes[i])\\n                ii = i \\n            else: \\n                ll = \\\"L\\\" if ii == -1 else dominoes[ii]\\n                rr = \\\"R\\\" if mp[i] == len(dominoes) else dominoes[mp[i]]\\n                if ll == rr: ans.append(ll)\\n                elif ll == \\\"L\\\": ans.append(\\\".\\\")\\n                else: \\n                    if i - ii < mp[i] - i: ans.append(\\\"R\\\")\\n                    elif i - ii > mp[i] - i: ans.append(\\\"L\\\")\\n                    else: ans.append(\\\".\\\")\\n        return \\\"\\\".join(ans)\",\n          \"def compute():\\n  var8 = 27\\n    val29 = var8 * 2\\n   print(val29)\"\n        ],\n        \"semantic_type\": \"\",\n        \"description\": \"\"\n      }\n    },\n    {\n      \"column\": \"label\",\n      \"properties\": {\n        \"dtype\": \"number\",\n        \"std\": 0,\n        \"min\": 0,\n        \"max\": 1,\n        \"num_unique_values\": 2,\n        \"samples\": [\n          0,\n          1\n        ],\n        \"semantic_type\": \"\",\n        \"description\": \"\"\n      }\n    }\n  ]\n}"
            }
          },
          "metadata": {},
          "execution_count": 13
        }
      ]
    },
    {
      "cell_type": "markdown",
      "source": [
        "### Data Checking without Tokenization"
      ],
      "metadata": {
        "id": "LJWYDuzLbLFo"
      }
    },
    {
      "cell_type": "code",
      "source": [
        "print(df['label'].value_counts())\n",
        "df['label'].value_counts().plot(kind='pie', title=\"Label Pie\")"
      ],
      "metadata": {
        "colab": {
          "base_uri": "https://localhost:8080/",
          "height": 519
        },
        "id": "Fz3_fvnzVVfK",
        "outputId": "9e60bee7-fdd1-477c-bef4-7317f205a3b6"
      },
      "execution_count": 16,
      "outputs": [
        {
          "output_type": "stream",
          "name": "stdout",
          "text": [
            "label\n",
            "1    1312\n",
            "0    1000\n",
            "Name: count, dtype: int64\n"
          ]
        },
        {
          "output_type": "execute_result",
          "data": {
            "text/plain": [
              "<Axes: title={'center': 'Label Pie'}, ylabel='count'>"
            ]
          },
          "metadata": {},
          "execution_count": 16
        },
        {
          "output_type": "display_data",
          "data": {
            "text/plain": [
              "<Figure size 640x480 with 1 Axes>"
            ],
            "image/png": "[encoded data removed]"
          },
          "metadata": {}
        }
      ]
    },
    {
      "cell_type": "markdown",
      "source": [
        "###  Tokenization"
      ],
      "metadata": {
        "id": "t4fp5fsLbEow"
      }
    },
    {
      "cell_type": "code",
      "source": [
        "def clean_python_code(code):\n",
        "    if not isinstance(code, str) or len(code.strip()) == 0:\n",
        "        return \"EMPTY_CODE\"\n",
        "\n",
        "    code = code.replace('\\t', '    ')\n",
        "    code = re.sub(r'#.*', '', code)\n",
        "    code = re.sub(r'\"\"\".*?\"\"\"|\\'\\'\\'.*?\\'\\'\\'', '', code, flags=re.DOTALL)\n",
        "    code = re.sub(r'(\\b(if|for|while|def|class)\\b[^\\n]*)(?<!:)\\n', r'\\1:\\n', code)\n",
        "    code = re.sub(r'(\\b(def|class)\\b[^\\n]*:)(\\n\\s*\\n)', r'\\1\\n    pass\\n', code)\n",
        "\n",
        "    code = re.sub(r'\\s*([,:\\])}])', r'\\1', code)\n",
        "    code = re.sub(r'([{[(])\\s*', r'\\1', code)\n",
        "\n",
        "    return code.strip()\n",
        "\n",
        "# apply function to dataset muna\n",
        "df['clean_python_solutions'] = df['python_solutions'].apply(clean_python_code)\n",
        "\n",
        "df = df.drop_duplicates(subset=['clean_python_solutions'], keep='first')\n",
        "df = df[df['clean_python_solutions'] != \"EMPTY_CODE\"]\n",
        "df = df.reset_index(drop=True)\n",
        "df['clean_python_solutions'] = df['python_solutions'].apply(clean_python_code)"
      ],
      "metadata": {
        "id": "1-r3Q6ReB0uv"
      },
      "execution_count": 17,
      "outputs": []
    },
    {
      "cell_type": "code",
      "source": [
        "print(df[['python_solutions', 'clean_python_solutions']].head(10))"
      ],
      "metadata": {
        "colab": {
          "base_uri": "https://localhost:8080/"
        },
        "id": "UpIud3Jr6gBE",
        "outputId": "35718e44-8264-49eb-9806-8d8e02a73f88"
      },
      "execution_count": 18,
      "outputs": [
        {
          "output_type": "stream",
          "name": "stdout",
          "text": [
            "                                    python_solutions  \\\n",
            "0  class Solution:\\n    def twoSum(self, nums: Li...   \n",
            "1  class Solution:\\n    def lengthOfLongestSubstr...   \n",
            "2  class Solution:\\n    def findMedianSortedArray...   \n",
            "3  class Solution:\\n    def longestPalindrome(sel...   \n",
            "4  class Solution:\\n    def convert(self, s: str,...   \n",
            "5  class Solution:\\n    def reverse(self, x: int)...   \n",
            "6  class Solution:\\n    def myAtoi(self, s: str) ...   \n",
            "7  class Solution:\\n    def isPalindrome(self, x:...   \n",
            "8  class Solution:\\n    @lru_cache\\n    def isMat...   \n",
            "9  class Solution:\\n    def maxArea(self, height:...   \n",
            "\n",
            "                              clean_python_solutions  \n",
            "0  class Solution:\\n    def twoSum(self, nums: Li...  \n",
            "1  class Solution:\\n    def lengthOfLongestSubstr...  \n",
            "2  class Solution:\\n    def findMedianSortedArray...  \n",
            "3  class Solution:\\n    def longestPalindrome(sel...  \n",
            "4  class Solution:\\n    def convert(self, s: str,...  \n",
            "5  class Solution:\\n    def reverse(self, x: int)...  \n",
            "6  class Solution:\\n    def myAtoi(self, s: str) ...  \n",
            "7  class Solution:\\n    def isPalindrome(self, x:...  \n",
            "8  class Solution:\\n    @lru_cache\\n    def isMat...  \n",
            "9  class Solution:\\n    def maxArea(self, height:...  \n"
          ]
        }
      ]
    },
    {
      "cell_type": "markdown",
      "source": [
        "### Data Checking with Tokenization"
      ],
      "metadata": {
        "id": "Q0_M0M6Rbbde"
      }
    },
    {
      "cell_type": "code",
      "source": [
        "print(df['label'].value_counts())\n",
        "df['label'].value_counts().plot(kind='pie', title=\"Label Pie\")"
      ],
      "metadata": {
        "colab": {
          "base_uri": "https://localhost:8080/",
          "height": 519
        },
        "id": "cbqm-RW8VbTV",
        "outputId": "69d84950-5704-4508-d464-195683c4a53b"
      },
      "execution_count": 19,
      "outputs": [
        {
          "output_type": "stream",
          "name": "stdout",
          "text": [
            "label\n",
            "1    1312\n",
            "0    1000\n",
            "Name: count, dtype: int64\n"
          ]
        },
        {
          "output_type": "execute_result",
          "data": {
            "text/plain": [
              "<Axes: title={'center': 'Label Pie'}, ylabel='count'>"
            ]
          },
          "metadata": {},
          "execution_count": 19
        },
        {
          "output_type": "display_data",
          "data": {
            "text/plain": [
              "<Figure size 640x480 with 1 Axes>"
            ],
            "image/png": "[encoded data removed]"
          },
          "metadata": {}
        }
      ]
    },
    {
      "cell_type": "markdown",
      "source": [
        "### More Tokenizing"
      ],
      "metadata": {
        "id": "JlHcvsembiiI"
      }
    },
    {
      "cell_type": "code",
      "source": [
        "# Tokenize\n",
        "max_vocab_size = 5000\n",
        "max_length = 500\n",
        "\n",
        "tokenizer = Tokenizer(num_words=max_vocab_size, oov_token=\"<OOV>\")\n",
        "tokenizer.fit_on_texts(df['clean_python_solutions'])\n",
        "sequences = tokenizer.texts_to_sequences(df['clean_python_solutions'])\n",
        "\n",
        "X = pad_sequences(sequences, maxlen=max_length, padding='post')\n",
        "X_train, X_test, y_train, y_test = train_test_split(X, df['label'].values, test_size=0.2, random_state=42)"
      ],
      "metadata": {
        "id": "b3UzuN16CBz-"
      },
      "execution_count": 20,
      "outputs": []
    },
    {
      "cell_type": "markdown",
      "source": [
        "### Last Checking of Data with Finalized Tokenizing"
      ],
      "metadata": {
        "id": "X9SP6oCnbmYg"
      }
    },
    {
      "cell_type": "code",
      "source": [
        "print(df['label'].value_counts())\n",
        "df['label'].value_counts().plot(kind='pie', title=\"Final Label Pie\")"
      ],
      "metadata": {
        "colab": {
          "base_uri": "https://localhost:8080/",
          "height": 519
        },
        "id": "ivp2sufjbtYj",
        "outputId": "4460c0d1-e8b4-4a81-a5e5-9b45c64ab369"
      },
      "execution_count": 21,
      "outputs": [
        {
          "output_type": "stream",
          "name": "stdout",
          "text": [
            "label\n",
            "1    1312\n",
            "0    1000\n",
            "Name: count, dtype: int64\n"
          ]
        },
        {
          "output_type": "execute_result",
          "data": {
            "text/plain": [
              "<Axes: title={'center': 'Final Label Pie'}, ylabel='count'>"
            ]
          },
          "metadata": {},
          "execution_count": 21
        },
        {
          "output_type": "display_data",
          "data": {
            "text/plain": [
              "<Figure size 640x480 with 1 Axes>"
            ],
            "image/png": "[encoded data removed]"
          },
          "metadata": {}
        }
      ]
    },
    {
      "cell_type": "markdown",
      "source": [
        "### Creating the CNN Model for Code Readability\n",
        "\n",
        "This one is important because it is needed said in the instructions"
      ],
      "metadata": {
        "id": "0PuA__OpbzeW"
      }
    },
    {
      "cell_type": "code",
      "source": [
        "def create_cnn_model(filters=32):# increase filter by 64 of 16 for tweaking\n",
        "    inputs = Input(shape=(max_length,), name='cnn_input')\n",
        "    x = Embedding(input_dim=max_vocab_size, output_dim=128, input_length=max_length)(inputs)\n",
        "    x = Conv1D(filters=filters, kernel_size=3, activation='relu')(x)\n",
        "    x = MaxPooling1D(pool_size=2)(x)\n",
        "    x = Conv1D(filters=filters * 2, kernel_size=3, activation='relu')(x)\n",
        "    x = MaxPooling1D(pool_size=2)(x)\n",
        "    x = Flatten()(x)\n",
        "\n",
        "    x = Dense(128, activation='relu', kernel_regularizer=l2(0.01))(x)# increase L2 for tweaking\n",
        "    x = Dropout(0.4)(x)# increase or decrease dropout for tweaking\n",
        "    output_layer = Dense(1, activation='sigmoid')(x)\n",
        "\n",
        "    model = Model(inputs=inputs, outputs=output_layer)\n",
        "    return model\n",
        "\n",
        "# creating the model\n",
        "model = create_cnn_model()\n",
        "\n",
        "# Adam Optimizer with Exponential Decay\n",
        "lr_schedule = ExponentialDecay(initial_learning_rate=0.0003, decay_steps=1000, decay_rate=0.9)\n",
        "optimizer = Adam(learning_rate=lr_schedule)\n",
        "\n",
        "# compiling\n",
        "model.compile(optimizer=optimizer, loss='binary_crossentropy', metrics=['accuracy'])"
      ],
      "metadata": {
        "colab": {
          "base_uri": "https://localhost:8080/"
        },
        "id": "FayBWet8CHaC",
        "outputId": "d5c7bf8e-75c2-4931-ef00-acbb3a1a63b2"
      },
      "execution_count": 22,
      "outputs": [
        {
          "output_type": "stream",
          "name": "stderr",
          "text": [
            "/usr/local/lib/python3.11/dist-packages/keras/src/layers/core/embedding.py:90: UserWarning: Argument `input_length` is deprecated. Just remove it.\n",
            "  warnings.warn(\n"
          ]
        }
      ]
    },
    {
      "cell_type": "code",
      "source": [
        "model.summary()"
      ],
      "metadata": {
        "colab": {
          "base_uri": "https://localhost:8080/",
          "height": 459
        },
        "id": "sEahp-cI7IMM",
        "outputId": "f63c7252-fe5b-4802-a06e-dac921de25a2"
      },
      "execution_count": 23,
      "outputs": [
        {
          "output_type": "display_data",
          "data": {
            "text/plain": [
              "\u001b[1mModel: \"functional\"\u001b[0m\n"
            ],
            "text/html": [
              "<pre style=\"white-space:pre;overflow-x:auto;line-height:normal;font-family:Menlo,'DejaVu Sans Mono',consolas,'Courier New',monospace\"><span style=\"font-weight: bold\">Model: \"functional\"</span>\n",
              "</pre>\n"
            ]
          },
          "metadata": {}
        },
        {
          "output_type": "display_data",
          "data": {
            "text/plain": [
              "┏━━━━━━━━━━━━━━━━━━━━━━━━━━━━━━━━━━━━━━┳━━━━━━━━━━━━━━━━━━━━━━━━━━━━━┳━━━━━━━━━━━━━━━━━┓\n",
              "┃\u001b[1m \u001b[0m\u001b[1mLayer (type)                        \u001b[0m\u001b[1m \u001b[0m┃\u001b[1m \u001b[0m\u001b[1mOutput Shape               \u001b[0m\u001b[1m \u001b[0m┃\u001b[1m \u001b[0m\u001b[1m        Param #\u001b[0m\u001b[1m \u001b[0m┃\n",
              "┡━━━━━━━━━━━━━━━━━━━━━━━━━━━━━━━━━━━━━━╇━━━━━━━━━━━━━━━━━━━━━━━━━━━━━╇━━━━━━━━━━━━━━━━━┩\n",
              "│ cnn_input (\u001b[38;5;33mInputLayer\u001b[0m)               │ (\u001b[38;5;45mNone\u001b[0m, \u001b[38;5;34m500\u001b[0m)                 │               \u001b[38;5;34m0\u001b[0m │\n",
              "├──────────────────────────────────────┼─────────────────────────────┼─────────────────┤\n",
              "│ embedding (\u001b[38;5;33mEmbedding\u001b[0m)                │ (\u001b[38;5;45mNone\u001b[0m, \u001b[38;5;34m500\u001b[0m, \u001b[38;5;34m128\u001b[0m)            │         \u001b[38;5;34m640,000\u001b[0m │\n",
              "├──────────────────────────────────────┼─────────────────────────────┼─────────────────┤\n",
              "│ conv1d (\u001b[38;5;33mConv1D\u001b[0m)                      │ (\u001b[38;5;45mNone\u001b[0m, \u001b[38;5;34m498\u001b[0m, \u001b[38;5;34m32\u001b[0m)             │          \u001b[38;5;34m12,320\u001b[0m │\n",
              "├──────────────────────────────────────┼─────────────────────────────┼─────────────────┤\n",
              "│ max_pooling1d (\u001b[38;5;33mMaxPooling1D\u001b[0m)         │ (\u001b[38;5;45mNone\u001b[0m, \u001b[38;5;34m249\u001b[0m, \u001b[38;5;34m32\u001b[0m)             │               \u001b[38;5;34m0\u001b[0m │\n",
              "├──────────────────────────────────────┼─────────────────────────────┼─────────────────┤\n",
              "│ conv1d_1 (\u001b[38;5;33mConv1D\u001b[0m)                    │ (\u001b[38;5;45mNone\u001b[0m, \u001b[38;5;34m247\u001b[0m, \u001b[38;5;34m64\u001b[0m)             │           \u001b[38;5;34m6,208\u001b[0m │\n",
              "├──────────────────────────────────────┼─────────────────────────────┼─────────────────┤\n",
              "│ max_pooling1d_1 (\u001b[38;5;33mMaxPooling1D\u001b[0m)       │ (\u001b[38;5;45mNone\u001b[0m, \u001b[38;5;34m123\u001b[0m, \u001b[38;5;34m64\u001b[0m)             │               \u001b[38;5;34m0\u001b[0m │\n",
              "├──────────────────────────────────────┼─────────────────────────────┼─────────────────┤\n",
              "│ flatten (\u001b[38;5;33mFlatten\u001b[0m)                    │ (\u001b[38;5;45mNone\u001b[0m, \u001b[38;5;34m7872\u001b[0m)                │               \u001b[38;5;34m0\u001b[0m │\n",
              "├──────────────────────────────────────┼─────────────────────────────┼─────────────────┤\n",
              "│ dense (\u001b[38;5;33mDense\u001b[0m)                        │ (\u001b[38;5;45mNone\u001b[0m, \u001b[38;5;34m128\u001b[0m)                 │       \u001b[38;5;34m1,007,744\u001b[0m │\n",
              "├──────────────────────────────────────┼─────────────────────────────┼─────────────────┤\n",
              "│ dropout (\u001b[38;5;33mDropout\u001b[0m)                    │ (\u001b[38;5;45mNone\u001b[0m, \u001b[38;5;34m128\u001b[0m)                 │               \u001b[38;5;34m0\u001b[0m │\n",
              "├──────────────────────────────────────┼─────────────────────────────┼─────────────────┤\n",
              "│ dense_1 (\u001b[38;5;33mDense\u001b[0m)                      │ (\u001b[38;5;45mNone\u001b[0m, \u001b[38;5;34m1\u001b[0m)                   │             \u001b[38;5;34m129\u001b[0m │\n",
              "└──────────────────────────────────────┴─────────────────────────────┴─────────────────┘\n"
            ],
            "text/html": [
              "<pre style=\"white-space:pre;overflow-x:auto;line-height:normal;font-family:Menlo,'DejaVu Sans Mono',consolas,'Courier New',monospace\">┏━━━━━━━━━━━━━━━━━━━━━━━━━━━━━━━━━━━━━━┳━━━━━━━━━━━━━━━━━━━━━━━━━━━━━┳━━━━━━━━━━━━━━━━━┓\n",
              "┃<span style=\"font-weight: bold\"> Layer (type)                         </span>┃<span style=\"font-weight: bold\"> Output Shape                </span>┃<span style=\"font-weight: bold\">         Param # </span>┃\n",
              "┡━━━━━━━━━━━━━━━━━━━━━━━━━━━━━━━━━━━━━━╇━━━━━━━━━━━━━━━━━━━━━━━━━━━━━╇━━━━━━━━━━━━━━━━━┩\n",
              "│ cnn_input (<span style=\"color: #0087ff; text-decoration-color: #0087ff\">InputLayer</span>)               │ (<span style=\"color: #00d7ff; text-decoration-color: #00d7ff\">None</span>, <span style=\"color: #00af00; text-decoration-color: #00af00\">500</span>)                 │               <span style=\"color: #00af00; text-decoration-color: #00af00\">0</span> │\n",
              "├──────────────────────────────────────┼─────────────────────────────┼─────────────────┤\n",
              "│ embedding (<span style=\"color: #0087ff; text-decoration-color: #0087ff\">Embedding</span>)                │ (<span style=\"color: #00d7ff; text-decoration-color: #00d7ff\">None</span>, <span style=\"color: #00af00; text-decoration-color: #00af00\">500</span>, <span style=\"color: #00af00; text-decoration-color: #00af00\">128</span>)            │         <span style=\"color: #00af00; text-decoration-color: #00af00\">640,000</span> │\n",
              "├──────────────────────────────────────┼─────────────────────────────┼─────────────────┤\n",
              "│ conv1d (<span style=\"color: #0087ff; text-decoration-color: #0087ff\">Conv1D</span>)                      │ (<span style=\"color: #00d7ff; text-decoration-color: #00d7ff\">None</span>, <span style=\"color: #00af00; text-decoration-color: #00af00\">498</span>, <span style=\"color: #00af00; text-decoration-color: #00af00\">32</span>)             │          <span style=\"color: #00af00; text-decoration-color: #00af00\">12,320</span> │\n",
              "├──────────────────────────────────────┼─────────────────────────────┼─────────────────┤\n",
              "│ max_pooling1d (<span style=\"color: #0087ff; text-decoration-color: #0087ff\">MaxPooling1D</span>)         │ (<span style=\"color: #00d7ff; text-decoration-color: #00d7ff\">None</span>, <span style=\"color: #00af00; text-decoration-color: #00af00\">249</span>, <span style=\"color: #00af00; text-decoration-color: #00af00\">32</span>)             │               <span style=\"color: #00af00; text-decoration-color: #00af00\">0</span> │\n",
              "├──────────────────────────────────────┼─────────────────────────────┼─────────────────┤\n",
              "│ conv1d_1 (<span style=\"color: #0087ff; text-decoration-color: #0087ff\">Conv1D</span>)                    │ (<span style=\"color: #00d7ff; text-decoration-color: #00d7ff\">None</span>, <span style=\"color: #00af00; text-decoration-color: #00af00\">247</span>, <span style=\"color: #00af00; text-decoration-color: #00af00\">64</span>)             │           <span style=\"color: #00af00; text-decoration-color: #00af00\">6,208</span> │\n",
              "├──────────────────────────────────────┼─────────────────────────────┼─────────────────┤\n",
              "│ max_pooling1d_1 (<span style=\"color: #0087ff; text-decoration-color: #0087ff\">MaxPooling1D</span>)       │ (<span style=\"color: #00d7ff; text-decoration-color: #00d7ff\">None</span>, <span style=\"color: #00af00; text-decoration-color: #00af00\">123</span>, <span style=\"color: #00af00; text-decoration-color: #00af00\">64</span>)             │               <span style=\"color: #00af00; text-decoration-color: #00af00\">0</span> │\n",
              "├──────────────────────────────────────┼─────────────────────────────┼─────────────────┤\n",
              "│ flatten (<span style=\"color: #0087ff; text-decoration-color: #0087ff\">Flatten</span>)                    │ (<span style=\"color: #00d7ff; text-decoration-color: #00d7ff\">None</span>, <span style=\"color: #00af00; text-decoration-color: #00af00\">7872</span>)                │               <span style=\"color: #00af00; text-decoration-color: #00af00\">0</span> │\n",
              "├──────────────────────────────────────┼─────────────────────────────┼─────────────────┤\n",
              "│ dense (<span style=\"color: #0087ff; text-decoration-color: #0087ff\">Dense</span>)                        │ (<span style=\"color: #00d7ff; text-decoration-color: #00d7ff\">None</span>, <span style=\"color: #00af00; text-decoration-color: #00af00\">128</span>)                 │       <span style=\"color: #00af00; text-decoration-color: #00af00\">1,007,744</span> │\n",
              "├──────────────────────────────────────┼─────────────────────────────┼─────────────────┤\n",
              "│ dropout (<span style=\"color: #0087ff; text-decoration-color: #0087ff\">Dropout</span>)                    │ (<span style=\"color: #00d7ff; text-decoration-color: #00d7ff\">None</span>, <span style=\"color: #00af00; text-decoration-color: #00af00\">128</span>)                 │               <span style=\"color: #00af00; text-decoration-color: #00af00\">0</span> │\n",
              "├──────────────────────────────────────┼─────────────────────────────┼─────────────────┤\n",
              "│ dense_1 (<span style=\"color: #0087ff; text-decoration-color: #0087ff\">Dense</span>)                      │ (<span style=\"color: #00d7ff; text-decoration-color: #00d7ff\">None</span>, <span style=\"color: #00af00; text-decoration-color: #00af00\">1</span>)                   │             <span style=\"color: #00af00; text-decoration-color: #00af00\">129</span> │\n",
              "└──────────────────────────────────────┴─────────────────────────────┴─────────────────┘\n",
              "</pre>\n"
            ]
          },
          "metadata": {}
        },
        {
          "output_type": "display_data",
          "data": {
            "text/plain": [
              "\u001b[1m Total params: \u001b[0m\u001b[38;5;34m1,666,401\u001b[0m (6.36 MB)\n"
            ],
            "text/html": [
              "<pre style=\"white-space:pre;overflow-x:auto;line-height:normal;font-family:Menlo,'DejaVu Sans Mono',consolas,'Courier New',monospace\"><span style=\"font-weight: bold\"> Total params: </span><span style=\"color: #00af00; text-decoration-color: #00af00\">1,666,401</span> (6.36 MB)\n",
              "</pre>\n"
            ]
          },
          "metadata": {}
        },
        {
          "output_type": "display_data",
          "data": {
            "text/plain": [
              "\u001b[1m Trainable params: \u001b[0m\u001b[38;5;34m1,666,401\u001b[0m (6.36 MB)\n"
            ],
            "text/html": [
              "<pre style=\"white-space:pre;overflow-x:auto;line-height:normal;font-family:Menlo,'DejaVu Sans Mono',consolas,'Courier New',monospace\"><span style=\"font-weight: bold\"> Trainable params: </span><span style=\"color: #00af00; text-decoration-color: #00af00\">1,666,401</span> (6.36 MB)\n",
              "</pre>\n"
            ]
          },
          "metadata": {}
        },
        {
          "output_type": "display_data",
          "data": {
            "text/plain": [
              "\u001b[1m Non-trainable params: \u001b[0m\u001b[38;5;34m0\u001b[0m (0.00 B)\n"
            ],
            "text/html": [
              "<pre style=\"white-space:pre;overflow-x:auto;line-height:normal;font-family:Menlo,'DejaVu Sans Mono',consolas,'Courier New',monospace\"><span style=\"font-weight: bold\"> Non-trainable params: </span><span style=\"color: #00af00; text-decoration-color: #00af00\">0</span> (0.00 B)\n",
              "</pre>\n"
            ]
          },
          "metadata": {}
        }
      ]
    },
    {
      "cell_type": "markdown",
      "source": [
        "### Training the Code Readability"
      ],
      "metadata": {
        "id": "zTLkQxpTb6Jx"
      }
    },
    {
      "cell_type": "code",
      "source": [
        "early_stopping = EarlyStopping(monitor='val_loss', patience=3, restore_best_weights=True)\n",
        "print(df['label'].value_counts())\n",
        "\n",
        "class_weights = compute_class_weight('balanced', classes=np.unique(y_train), y=y_train)\n",
        "class_weight_dict = {i: class_weights[i] for i in range(len(class_weights))}\n",
        "\n",
        "print(\"Class Weights:\", class_weight_dict)\n",
        "\n",
        "history = model.fit(\n",
        "    X_train,\n",
        "    y_train,\n",
        "    epochs=20,\n",
        "    batch_size=32,\n",
        "    validation_data=(X_test, y_test),\n",
        "    callbacks=[early_stopping],\n",
        "    class_weight=class_weight_dict\n",
        ")\n",
        "\n",
        "model.save(\"CRModel.keras\")"
      ],
      "metadata": {
        "colab": {
          "base_uri": "https://localhost:8080/"
        },
        "id": "vA48QDNcBi_V",
        "outputId": "b6940c31-e6ce-42f1-a1ed-e1c73cd3304f"
      },
      "execution_count": 24,
      "outputs": [
        {
          "output_type": "stream",
          "name": "stdout",
          "text": [
            "label\n",
            "1    1312\n",
            "0    1000\n",
            "Name: count, dtype: int64\n",
            "Class Weights: {0: 1.1628930817610064, 1: 0.877134724857685}\n",
            "Epoch 1/20\n",
            "\u001b[1m58/58\u001b[0m \u001b[32m━━━━━━━━━━━━━━━━━━━━\u001b[0m\u001b[37m\u001b[0m \u001b[1m9s\u001b[0m 96ms/step - accuracy: 0.6535 - loss: 2.3517 - val_accuracy: 0.8898 - val_loss: 0.6377\n",
            "Epoch 2/20\n",
            "\u001b[1m58/58\u001b[0m \u001b[32m━━━━━━━━━━━━━━━━━━━━\u001b[0m\u001b[37m\u001b[0m \u001b[1m6s\u001b[0m 96ms/step - accuracy: 0.8753 - loss: 0.5748 - val_accuracy: 0.8985 - val_loss: 0.3426\n",
            "Epoch 3/20\n",
            "\u001b[1m58/58\u001b[0m \u001b[32m━━━━━━━━━━━━━━━━━━━━\u001b[0m\u001b[37m\u001b[0m \u001b[1m6s\u001b[0m 97ms/step - accuracy: 0.9076 - loss: 0.3378 - val_accuracy: 0.9136 - val_loss: 0.2981\n",
            "Epoch 4/20\n",
            "\u001b[1m58/58\u001b[0m \u001b[32m━━━━━━━━━━━━━━━━━━━━\u001b[0m\u001b[37m\u001b[0m \u001b[1m5s\u001b[0m 87ms/step - accuracy: 0.8936 - loss: 0.3420 - val_accuracy: 0.9179 - val_loss: 0.2719\n",
            "Epoch 5/20\n",
            "\u001b[1m58/58\u001b[0m \u001b[32m━━━━━━━━━━━━━━━━━━━━\u001b[0m\u001b[37m\u001b[0m \u001b[1m6s\u001b[0m 107ms/step - accuracy: 0.9247 - loss: 0.2527 - val_accuracy: 0.9114 - val_loss: 0.2647\n",
            "Epoch 6/20\n",
            "\u001b[1m58/58\u001b[0m \u001b[32m━━━━━━━━━━━━━━━━━━━━\u001b[0m\u001b[37m\u001b[0m \u001b[1m5s\u001b[0m 91ms/step - accuracy: 0.9389 - loss: 0.2144 - val_accuracy: 0.9028 - val_loss: 0.2812\n",
            "Epoch 7/20\n",
            "\u001b[1m58/58\u001b[0m \u001b[32m━━━━━━━━━━━━━━━━━━━━\u001b[0m\u001b[37m\u001b[0m \u001b[1m10s\u001b[0m 91ms/step - accuracy: 0.9552 - loss: 0.1659 - val_accuracy: 0.8790 - val_loss: 0.3197\n",
            "Epoch 8/20\n",
            "\u001b[1m58/58\u001b[0m \u001b[32m━━━━━━━━━━━━━━━━━━━━\u001b[0m\u001b[37m\u001b[0m \u001b[1m11s\u001b[0m 100ms/step - accuracy: 0.9723 - loss: 0.1303 - val_accuracy: 0.8898 - val_loss: 0.3185\n"
          ]
        }
      ]
    },
    {
      "cell_type": "markdown",
      "source": [
        "### Tokenizer saving"
      ],
      "metadata": {
        "id": "nzzXr8Abb_0A"
      }
    },
    {
      "cell_type": "code",
      "source": [
        "# Save the tokenizer to a file\n",
        "tokenizer_path = \"/content/python_tokenizer.pkl\"  # Colab\n",
        "with open(tokenizer_path, \"wb\") as handle:\n",
        "    pickle.dump(tokenizer, handle)\n",
        "\n",
        "print(f\"Tokenizer saved at {tokenizer_path}\")"
      ],
      "metadata": {
        "colab": {
          "base_uri": "https://localhost:8080/"
        },
        "id": "rRSfjWsoVlXB",
        "outputId": "a8c902f3-f54b-40a5-934f-417a20fd1d3f"
      },
      "execution_count": 25,
      "outputs": [
        {
          "output_type": "stream",
          "name": "stdout",
          "text": [
            "Tokenizer saved at /content/python_tokenizer.pkl\n"
          ]
        }
      ]
    },
    {
      "cell_type": "markdown",
      "source": [
        "### Accuracy Checking"
      ],
      "metadata": {
        "id": "z0Qt7f-AcH77"
      }
    },
    {
      "cell_type": "code",
      "source": [
        "# Evaluate the model on test data\n",
        "test_loss, test_acc = model.evaluate(X_test, y_test)\n",
        "\n",
        "# Print final accuracy and loss\n",
        "print(f\"\\nFinal Test Accuracy: {test_acc:.4f}\")\n",
        "print(f\"Final Test Loss: {test_loss:.4f}\")"
      ],
      "metadata": {
        "colab": {
          "base_uri": "https://localhost:8080/"
        },
        "id": "C4qsitWsCWwA",
        "outputId": "1e65fecb-be69-4854-cd87-ed8d7ea040b7"
      },
      "execution_count": 26,
      "outputs": [
        {
          "output_type": "stream",
          "name": "stdout",
          "text": [
            "\u001b[1m15/15\u001b[0m \u001b[32m━━━━━━━━━━━━━━━━━━━━\u001b[0m\u001b[37m\u001b[0m \u001b[1m0s\u001b[0m 20ms/step - accuracy: 0.9098 - loss: 0.2714\n",
            "\n",
            "Final Test Accuracy: 0.9114\n",
            "Final Test Loss: 0.2647\n"
          ]
        }
      ]
    },
    {
      "cell_type": "markdown",
      "source": [
        "### Data Checking for Readable data and Predicted data"
      ],
      "metadata": {
        "id": "Zf0BX0C4crH-"
      }
    },
    {
      "cell_type": "code",
      "source": [
        "#Readable data\n",
        "actual_readable = (df['label'] == 1).sum()\n",
        "actual_unreadable = (df['label'] == 0).sum()\n",
        "print(f\"Actual Readable: {actual_readable}/{len(df)}\")\n",
        "print(f\"Actual Unreadable: {actual_unreadable}/{len(df)}\")\n",
        "\n",
        "# Get predictions for ALL data, not just X_test\n",
        "predictions = model.predict(X)  # Use full dataset `X`\n",
        "\n",
        "# Convert predictions to binary (readable/unreadable)\n",
        "pred_labels = (predictions > 0.5).astype(int).flatten()\n",
        "\n",
        "# Count predicted values\n",
        "readable_count = (pred_labels == 1).sum()\n",
        "unreadable_count = (pred_labels == 0).sum()\n",
        "\n",
        "# Print results\n",
        "print(f\"\\nPredicted Readable: {readable_count}/{len(X)}\")\n",
        "print(f\"Predicted Unreadable: {unreadable_count}/{len(X)}\")"
      ],
      "metadata": {
        "colab": {
          "base_uri": "https://localhost:8080/"
        },
        "id": "xdnyS7niDuQg",
        "outputId": "4a218911-a8c1-4b84-96bb-0f1f8fae041e"
      },
      "execution_count": null,
      "outputs": [
        {
          "output_type": "stream",
          "name": "stdout",
          "text": [
            "Actual Readable: 1312/2312\n",
            "Actual Unreadable: 1000/2312\n",
            "\u001b[1m73/73\u001b[0m \u001b[32m━━━━━━━━━━━━━━━━━━━━\u001b[0m\u001b[37m\u001b[0m \u001b[1m1s\u001b[0m 16ms/step\n",
            "\n",
            "Predicted Readable: 1390/2312\n",
            "Predicted Unreadable: 922/2312\n"
          ]
        }
      ]
    },
    {
      "cell_type": "markdown",
      "source": [
        "### Confusion Matrix and Evaluation Metrics"
      ],
      "metadata": {
        "id": "V_hjoWare9sL"
      }
    },
    {
      "cell_type": "code",
      "source": [
        "from sklearn.metrics import confusion_matrix, classification_report, accuracy_score, precision_score, recall_score, f1_score\n",
        "import seaborn as sns\n",
        "import matplotlib.pyplot as plt\n",
        "\n",
        "# Evaluate the model on test data\n",
        "test_loss, test_acc = model.evaluate(X_test, y_test)\n",
        "\n",
        "# Print final accuracy and loss\n",
        "print(f\"\\nFinal Test Accuracy: {test_acc:.4f}\")\n",
        "print(f\"Final Test Loss: {test_loss:.4f}\")\n",
        "\n",
        "# Count actual labels in the entire dataset\n",
        "actual_readable = (df['label'] == 1).sum()\n",
        "actual_unreadable = (df['label'] == 0).sum()\n",
        "print(f\"\\nActual Readable: {actual_readable}/{len(df)}\")\n",
        "print(f\"Actual Unreadable: {actual_unreadable}/{len(df)}\")\n",
        "\n",
        "# Get predictions for ALL data, not just X_test\n",
        "predictions = model.predict(X)  # Use full dataset `X`\n",
        "\n",
        "# Convert predictions to binary (readable/unreadable)\n",
        "pred_labels = (predictions > 0.5).astype(int).flatten()\n",
        "\n",
        "# Count predicted values\n",
        "readable_count = (pred_labels == 1).sum()\n",
        "unreadable_count = (pred_labels == 0).sum()\n",
        "\n",
        "# Print results\n",
        "print(f\"\\nPredicted Readable: {readable_count}/{len(X)}\")\n",
        "print(f\"Predicted Unreadable: {unreadable_count}/{len(X)}\")\n",
        "\n",
        "# Generate confusion matrix based on test data\n",
        "conf_matrix = confusion_matrix(y_test, (model.predict(X_test) > 0.5).astype(int).flatten())\n",
        "\n",
        "# Compute evaluation metrics (using test data)\n",
        "accuracy = accuracy_score(y_test, (model.predict(X_test) > 0.5).astype(int).flatten())\n",
        "precision = precision_score(y_test, (model.predict(X_test) > 0.5).astype(int).flatten())\n",
        "recall = recall_score(y_test, (model.predict(X_test) > 0.5).astype(int).flatten())\n",
        "f1 = f1_score(y_test, (model.predict(X_test) > 0.5).astype(int).flatten())\n",
        "\n",
        "# Print evaluation metrics\n",
        "print(\"\\nEvaluation Metrics (Test Data):\")\n",
        "print(f\"Accuracy: {accuracy:.4f}\")\n",
        "print(f\"Precision: {precision:.4f}\")\n",
        "print(f\"Recall: {recall:.4f}\")\n",
        "print(f\"F1 Score: {f1:.4f}\")\n",
        "\n",
        "# Print classification report\n",
        "print(\"\\nClassification Report:\\n\", classification_report(y_test, (model.predict(X_test) > 0.5).astype(int).flatten()))\n",
        "\n",
        "# Plot confusion matrix\n",
        "plt.figure(figsize=(6, 5))\n",
        "sns.heatmap(conf_matrix, annot=True, fmt=\"d\", cmap=\"Blues\", xticklabels=[\"Unreadable\", \"Readable\"], yticklabels=[\"Unreadable\", \"Readable\"])\n",
        "plt.xlabel(\"Predicted\")\n",
        "plt.ylabel(\"Actual\")\n",
        "plt.title(\"Confusion Matrix\")\n",
        "plt.show()\n"
      ],
      "metadata": {
        "colab": {
          "base_uri": "https://localhost:8080/",
          "height": 1000
        },
        "id": "drqkTIqledz1",
        "outputId": "acc74b58-7c8a-4fcc-dbf4-1707942fb9bd"
      },
      "execution_count": 29,
      "outputs": [
        {
          "output_type": "stream",
          "name": "stdout",
          "text": [
            "\u001b[1m15/15\u001b[0m \u001b[32m━━━━━━━━━━━━━━━━━━━━\u001b[0m\u001b[37m\u001b[0m \u001b[1m1s\u001b[0m 51ms/step - accuracy: 0.9098 - loss: 0.2714\n",
            "\n",
            "Final Test Accuracy: 0.9114\n",
            "Final Test Loss: 0.2647\n",
            "\n",
            "Actual Readable: 1312/2312\n",
            "Actual Unreadable: 1000/2312\n",
            "\u001b[1m73/73\u001b[0m \u001b[32m━━━━━━━━━━━━━━━━━━━━\u001b[0m\u001b[37m\u001b[0m \u001b[1m3s\u001b[0m 33ms/step\n",
            "\n",
            "Predicted Readable: 1325/2312\n",
            "Predicted Unreadable: 987/2312\n",
            "\u001b[1m15/15\u001b[0m \u001b[32m━━━━━━━━━━━━━━━━━━━━\u001b[0m\u001b[37m\u001b[0m \u001b[1m0s\u001b[0m 19ms/step\n",
            "\u001b[1m15/15\u001b[0m \u001b[32m━━━━━━━━━━━━━━━━━━━━\u001b[0m\u001b[37m\u001b[0m \u001b[1m0s\u001b[0m 18ms/step\n",
            "\u001b[1m15/15\u001b[0m \u001b[32m━━━━━━━━━━━━━━━━━━━━\u001b[0m\u001b[37m\u001b[0m \u001b[1m0s\u001b[0m 19ms/step\n",
            "\u001b[1m15/15\u001b[0m \u001b[32m━━━━━━━━━━━━━━━━━━━━\u001b[0m\u001b[37m\u001b[0m \u001b[1m0s\u001b[0m 19ms/step\n",
            "\u001b[1m15/15\u001b[0m \u001b[32m━━━━━━━━━━━━━━━━━━━━\u001b[0m\u001b[37m\u001b[0m \u001b[1m0s\u001b[0m 18ms/step\n",
            "\n",
            "Evaluation Metrics (Test Data):\n",
            "Accuracy: 0.9114\n",
            "Precision: 0.9157\n",
            "Recall: 0.9264\n",
            "F1 Score: 0.9210\n",
            "\u001b[1m15/15\u001b[0m \u001b[32m━━━━━━━━━━━━━━━━━━━━\u001b[0m\u001b[37m\u001b[0m \u001b[1m0s\u001b[0m 19ms/step\n",
            "\n",
            "Classification Report:\n",
            "               precision    recall  f1-score   support\n",
            "\n",
            "           0       0.91      0.89      0.90       205\n",
            "           1       0.92      0.93      0.92       258\n",
            "\n",
            "    accuracy                           0.91       463\n",
            "   macro avg       0.91      0.91      0.91       463\n",
            "weighted avg       0.91      0.91      0.91       463\n",
            "\n"
          ]
        },
        {
          "output_type": "display_data",
          "data": {
            "text/plain": [
              "<Figure size 600x500 with 2 Axes>"
            ],
            "image/png": "[encoded data removed]"
          },
          "metadata": {}
        }
      ]
    },
    {
      "cell_type": "markdown",
      "source": [
        "### Labeling and Checking"
      ],
      "metadata": {
        "id": "tBRzTC08cxCk"
      }
    },
    {
      "cell_type": "code",
      "source": [
        "df['pred_label'] = pred_labels  # Add predictions to DataFrame\n",
        "df['correct'] = (df['pred_label'] == df['label']).astype(int)\n",
        "\n",
        "# Show some misclassified samples\n",
        "misclassified = df[df['correct'] == 0]\n",
        "print(misclassified[['python_solutions', 'label', 'pred_label']].head(10))"
      ],
      "metadata": {
        "colab": {
          "base_uri": "https://localhost:8080/"
        },
        "id": "ODjmE1iAVzIU",
        "outputId": "b2edcad7-cfd5-4e85-9e93-8ef21eddd812"
      },
      "execution_count": 30,
      "outputs": [
        {
          "output_type": "stream",
          "name": "stdout",
          "text": [
            "                                      python_solutions  label  pred_label\n",
            "8    class Solution:\\n    @lru_cache\\n    def isMat...      0           1\n",
            "10   class Solution:\\n    def intToRoman(self, num:...      0           1\n",
            "103  class Solution:\\n    def containsNearbyAlmostD...      0           1\n",
            "110  class Solution:\\n    def majorityElement(self,...      0           1\n",
            "119  class Solution:\\n    def maxSlidingWindow(self...      1           0\n",
            "142  class Solution:\\n    def isAdditiveNumber(self...      0           1\n",
            "145  class Solution:\\n    def maxCoins(self, nums: ...      1           0\n",
            "154  class Solution:\\n    def isPowerOfThree(self, ...      0           1\n",
            "155  class Solution:\\n    def countRangeSum(self, n...      1           0\n",
            "159  class Solution:\\n    def isValidSerialization(...      0           1\n"
          ]
        }
      ]
    },
    {
      "cell_type": "markdown",
      "source": [
        "### Determining the Prediction for Code Readability"
      ],
      "metadata": {
        "id": "_E_v1Bkyc4hQ"
      }
    },
    {
      "cell_type": "code",
      "source": [
        "def predict_readability(python_code):\n",
        "\n",
        "    # Ensure tokenizer is loaded\n",
        "    global tokenizer\n",
        "    if tokenizer is None:\n",
        "        print(\"Error: Tokenizer is not initialized.\")\n",
        "        return \"Tokenizer is missing. Please train the model first.\"\n",
        "\n",
        "    # Clean the input code snippet (ensure clean_code() is defined)\n",
        "    cleaned_python_code = clean_python_code(python_code)\n",
        "\n",
        "    # Tokenize and pad sequence\n",
        "    sequence = tokenizer.texts_to_sequences([cleaned_python_code])\n",
        "    padded_sequence = pad_sequences(sequence, maxlen=500, padding='post')\n",
        "\n",
        "    # Predict readability (Make sure the model expects 3 inputs)\n",
        "    prediction = model.predict([padded_sequence])\n",
        "    score = prediction[0][0]  # Extract predicted score\n",
        "\n",
        "    # Determine readability\n",
        "    if score > 0.5:\n",
        "        message = \"✅READABLE\"\n",
        "    else:\n",
        "        message = \"❌UNREADABLE\"\n",
        "\n",
        "    return message"
      ],
      "metadata": {
        "id": "NE34dMaDDzOY"
      },
      "execution_count": 34,
      "outputs": []
    },
    {
      "cell_type": "markdown",
      "source": [
        "### Sample Readable Code"
      ],
      "metadata": {
        "id": "L_pSAv-Jc_lj"
      }
    },
    {
      "cell_type": "code",
      "source": [
        "sample_readable = df[df['label'] == 1].sample(1)['python_solutions'].values[0]\n",
        "print(\"Sample Readable Code:\\n\", sample_readable)\n",
        "print(predict_readability(sample_readable))"
      ],
      "metadata": {
        "colab": {
          "base_uri": "https://localhost:8080/"
        },
        "id": "3s0vnShVD1ZN",
        "outputId": "dd4ff7a0-4f17-4f5a-85a5-a28b350a99f6"
      },
      "execution_count": 35,
      "outputs": [
        {
          "output_type": "stream",
          "name": "stdout",
          "text": [
            "Sample Readable Code:\n",
            " class Solution:\n",
            "    def nthSuperUglyNumber(self, n: int, primes: List[int]) -> int:\n",
            "        ugly = [1]\n",
            "        seen = set()\n",
            "        x = []\n",
            "        heapq.heapify(x)\n",
            "        while len(ugly) != n:\n",
            "            for i in primes:\n",
            "                if ugly[-1]*i not in seen:\n",
            "                    seen.add(ugly[-1]*i)\n",
            "                    heapq.heappush(x,ugly[-1]*i)\n",
            "            ugly.append(heapq.heappop(x))\n",
            "        return ugly[-1]\n",
            "\u001b[1m1/1\u001b[0m \u001b[32m━━━━━━━━━━━━━━━━━━━━\u001b[0m\u001b[37m\u001b[0m \u001b[1m0s\u001b[0m 49ms/step\n",
            "✅READABLE\n"
          ]
        }
      ]
    },
    {
      "cell_type": "markdown",
      "source": [
        "### Sample Unreadable Code"
      ],
      "metadata": {
        "id": "e4eh1hIjdCZc"
      }
    },
    {
      "cell_type": "code",
      "source": [
        "sample_unreadable = df[df['label'] == 0].sample(1)['python_solutions'].values[0]\n",
        "print(\"Sample Unreadable Code:\\n\", sample_unreadable)\n",
        "print(predict_readability(sample_unreadable))"
      ],
      "metadata": {
        "colab": {
          "base_uri": "https://localhost:8080/"
        },
        "id": "Je955biLQm63",
        "outputId": "0b22a7ab-4b53-4ec2-a009-19642747eeff"
      },
      "execution_count": 37,
      "outputs": [
        {
          "output_type": "stream",
          "name": "stdout",
          "text": [
            "Sample Unreadable Code:\n",
            " class Solution:\n",
            "    def getBiggestThree(self, grid: List[List[int]]) -> List[int]:\n",
            "        m, n = len(grid), len(grid[0]) # dimensions \n",
            "        anti, diag = {}, {}\n",
            "        for i in range(m):\n",
            "            for j in range(n): \n",
            "                key = i+j\n",
            "                if key not in anti: anti[key] = [0]\n",
            "                anti[key].append(anti[key][-1] + grid[i][j])\n",
            "                \n",
            "                key = i-j \n",
            "                if key not in diag: diag[key] = [0]\n",
            "                diag[key].append(diag[key][-1] + grid[i][j])\n",
            "        \n",
            "        def fn(i, j, k): \n",
            "            \"\"\"Return sum of k diagonal elements starting from (i, j)\"\"\"\n",
            "            if i >= j: return diag[i-j][j+k] - diag[i-j][j]\n",
            "            return diag[i-j][i+k] - diag[i-j][i]\n",
            "        \n",
            "        def gn(i, j, k):\n",
            "            \"\"\"Return sum of k anti-diagonal elements starting from (i, j)\"\"\"\n",
            "            if i+j < n: return anti[i+j][i+k] - anti[i+j][i]\n",
            "            return anti[i+j][n-1-j+k] - anti[i+j][n-1-j]\n",
            "        \n",
            "        ans = set()\n",
            "        for i in range(m):\n",
            "            for j in range(n): \n",
            "                ans.add(grid[i][j])\n",
            "                for ii in range(i+2, m, 2): \n",
            "                    r = (ii-i)//2\n",
            "                    if j-r < 0 or j+r >= n: break \n",
            "                    val = 0 \n",
            "                    val += fn(i, j, r+1)\n",
            "                    val += gn(i, j, r+1)\n",
            "                    val += fn((ii+i)//2, j-r, r+1)\n",
            "                    val += gn((ii+i)//2, j+r, r+1)\n",
            "                    val -= grid[i][j] + grid[(ii+i)//2][j-r] + grid[(ii+i)//2][j+r] + grid[ii][j]\n",
            "                    ans.add(val)\n",
            "        return sorted(ans, reverse=True)[:3]\n",
            "\u001b[1m1/1\u001b[0m \u001b[32m━━━━━━━━━━━━━━━━━━━━\u001b[0m\u001b[37m\u001b[0m \u001b[1m0s\u001b[0m 47ms/step\n",
            "❌UNREADABLE\n"
          ]
        }
      ]
    },
    {
      "cell_type": "markdown",
      "source": [
        "### Code Readability Testing with User Input"
      ],
      "metadata": {
        "id": "YjjynBTGdE-a"
      }
    },
    {
      "cell_type": "code",
      "source": [
        "readable_code = \"\"\"\n",
        "asdasdasdasdfffffasdasd\n",
        "\"\"\"\n",
        "\n",
        "print(predict_readability(readable_code))"
      ],
      "metadata": {
        "colab": {
          "base_uri": "https://localhost:8080/"
        },
        "id": "yqQt1nqQFsai",
        "outputId": "8b2b8351-bcfe-4d5e-dc27-6037c4ebfb17"
      },
      "execution_count": 38,
      "outputs": [
        {
          "output_type": "stream",
          "name": "stdout",
          "text": [
            "\u001b[1m1/1\u001b[0m \u001b[32m━━━━━━━━━━━━━━━━━━━━\u001b[0m\u001b[37m\u001b[0m \u001b[1m0s\u001b[0m 62ms/step\n",
            "❌UNREADABLE\n"
          ]
        }
      ]
    },
    {
      "cell_type": "markdown",
      "source": [
        "# Bug Localization\n"
      ],
      "metadata": {
        "id": "oK4iGGx9V68N"
      }
    },
    {
      "cell_type": "code",
      "source": [
        "# checking bugs using the pylint lib .txt saving\n",
        "def check_bugs(code, temp_file_path, output_filename=\"bug_report.txt\"):\n",
        "    if not code:\n",
        "        return \"No code extracted.\"\n",
        "    result = subprocess.run([\"pylint\", \"--disable=all\", \"--enable=E,F\", temp_file_path],\n",
        "                            capture_output=True, text=True, check=False)\n",
        "\n",
        "    os.remove(temp_file_path)\n",
        "    return f\"\\nBug report saved at \\n{result.stdout}\"\n",
        "\n",
        "# temp\n",
        "def temp_file(code):\n",
        "    temp_file = tempfile.NamedTemporaryFile(delete=False, suffix=\".py\", mode=\"w\")\n",
        "    temp_file.write(code)\n",
        "    temp_file_path = temp_file.name\n",
        "    temp_file.close()\n",
        "    return temp_file_path"
      ],
      "metadata": {
        "id": "GHRW-uyJV9AX"
      },
      "execution_count": 39,
      "outputs": []
    },
    {
      "cell_type": "code",
      "source": [
        "# model loading\n",
        "def load_model_and_tokenizer():\n",
        "    global model, tokenizer\n",
        "    model = tf.keras.models.load_model(MODEL_PATH)\n",
        "    with open(TOKENIZER_PATH, \"rb\") as handle:\n",
        "        tokenizer = pickle.load(handle)"
      ],
      "metadata": {
        "id": "oUZ0MUrdex0r"
      },
      "execution_count": 40,
      "outputs": []
    },
    {
      "cell_type": "code",
      "source": [
        "import ast\n",
        "\n",
        "# Readability Prediction Function\n",
        "def predict_readability(code_snippet):\n",
        "    # Check for syntax errors first\n",
        "    try:\n",
        "        ast.parse(code_snippet)  # Try parsing the code\n",
        "    except SyntaxError:\n",
        "        return \"❌UNREADABLE❌\"  # If it can't be parsed, it's unreadable\n",
        "\n",
        "    # Try executing the code to check if it's functional\n",
        "    try:\n",
        "        exec(code_snippet, {}, {})  # Run code in an isolated scope\n",
        "    except Exception:  # Catch any runtime errors\n",
        "        return \"❌UNREADABLE❌\"\n",
        "\n",
        "    return \"✅READABLE✅\"  # If execution succeeds, it's readable\n"
      ],
      "metadata": {
        "id": "BNZa5BcMey00"
      },
      "execution_count": 42,
      "outputs": []
    },
    {
      "cell_type": "code",
      "source": [
        "# Bug Detection using Pylint\n",
        "def check_bugs(code):\n",
        "    \"\"\"Run pylint on the provided code snippet and return formatted results.\"\"\"\n",
        "    try:\n",
        "        with tempfile.NamedTemporaryFile(delete=False, suffix=\".py\", mode=\"w\") as temp_file:\n",
        "            temp_file.write(code)\n",
        "            temp_file_path = temp_file.name\n",
        "\n",
        "        result = subprocess.run([\n",
        "            \"pylint\", \"--disable=all\", \"--enable=E,F\", temp_file_path\n",
        "        ], capture_output=True, text=True, check=False)\n",
        "\n",
        "        os.remove(temp_file_path)\n",
        "        output = result.stdout.strip()\n",
        "\n",
        "        if \"E\" in output or \"F\" in output:\n",
        "            return f\"❌ Bugs Found:\\n{output}\"\n",
        "        else:\n",
        "            return \"✅ Code is clean! No major issues detected.\"\n",
        "\n",
        "    except FileNotFoundError:\n",
        "        return \"⚠️ Pylint is missing! Install it with: `pip install pylint`.\"\n",
        "    except Exception as e:\n",
        "        return f\"⚠️ Error running Pylint: {str(e)}\"\n"
      ],
      "metadata": {
        "id": "JVk2yjUme0IS"
      },
      "execution_count": 43,
      "outputs": []
    },
    {
      "cell_type": "code",
      "source": [
        "# Time & Space Complexity Analysis\n",
        "def measure_complexity(code):\n",
        "    exec_globals = {}\n",
        "    indented_code = \"\\n    \".join(code.splitlines())\n",
        "    wrapped_code = f\"def temp_function():\\n    {indented_code}\"\n",
        "    try:\n",
        "        exec(wrapped_code, exec_globals)\n",
        "        temp_function = exec_globals[\"temp_function\"]\n",
        "        execution_time = timeit.timeit(temp_function, number=1000)\n",
        "        memory_usage = sys.getsizeof(temp_function)\n",
        "        return f\" Execution Time: {execution_time:.6f} sec\\n Memory Usage: {memory_usage} bytes\"\n",
        "    except Exception as e:\n",
        "        return f\"⚠️ Error in complexity analysis: {str(e)}\""
      ],
      "metadata": {
        "id": "TcujFvoMe1TB"
      },
      "execution_count": 44,
      "outputs": []
    },
    {
      "cell_type": "code",
      "source": [
        "# Driver function\n",
        "def analyze_code(code_snippet):\n",
        "    print(\"\\n Bug Detection:\")\n",
        "    print(check_bugs(code_snippet))\n",
        "\n",
        "    print(\"\\n Readability Analysis:\")\n",
        "    print(predict_readability(code_snippet))\n",
        "\n",
        "    print(\"\\n Time & Space Complexity:\")\n",
        "    print(measure_complexity(code_snippet))"
      ],
      "metadata": {
        "id": "fc1XOETve2ls"
      },
      "execution_count": 45,
      "outputs": []
    },
    {
      "cell_type": "code",
      "source": [
        "# Load the trained model and tokenizer\n",
        "MODEL_PATH = \"CRModel.keras\"\n",
        "TOKENIZER_PATH = \"python_tokenizer.pkl\""
      ],
      "metadata": {
        "id": "lnxaAV6Xe3iS"
      },
      "execution_count": 46,
      "outputs": []
    },
    {
      "cell_type": "code",
      "source": [
        "# Example Code Snippet for Testing\n",
        "example_code = \"\"\"\n",
        "class Solution:\n",
        "    def countSegments(self, s: str) -> int:\n",
        "        count = 0\n",
        "        for i in range(len(s)):\n",
        "            if s[i] != \" \" and (i==0 or s[i-1]== \" \"):\n",
        "                count+=1\n",
        "\n",
        "        return count\n",
        "\"\"\"\n",
        "\n",
        "# Load model & tokenizer, then analyze the code snippet\n",
        "load_model_and_tokenizer()\n",
        "analyze_code(example_code)"
      ],
      "metadata": {
        "colab": {
          "base_uri": "https://localhost:8080/"
        },
        "id": "t_OmYwnWWFU4",
        "outputId": "574da28b-9da1-4c4c-932e-64208bf59e81"
      },
      "execution_count": 47,
      "outputs": [
        {
          "output_type": "stream",
          "name": "stdout",
          "text": [
            "\n",
            " Bug Detection:\n",
            "✅ Code is clean! No major issues detected.\n",
            "\n",
            " Readability Analysis:\n",
            "✅READABLE✅\n",
            "\n",
            " Time & Space Complexity:\n",
            " Execution Time: 0.007902 sec\n",
            " Memory Usage: 152 bytes\n"
          ]
        }
      ]
    },
    {
      "cell_type": "code",
      "source": [],
      "metadata": {
        "id": "WWJ9WNWvq3UD"
      },
      "execution_count": null,
      "outputs": []
    }
  ]
}