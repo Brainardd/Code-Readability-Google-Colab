{
  "nbformat": 4,
  "nbformat_minor": 0,
  "metadata": {
    "colab": {
      "provenance": []
    },
    "kernelspec": {
      "name": "python3",
      "display_name": "Python 3"
    },
    "language_info": {
      "name": "python"
    }
  },
  "cells": [
    {
      "cell_type": "code",
      "source": [
        "# Install this, for some reason, google colab doesn't have this on their dependencies.\n",
        "!pip install pylint"
      ],
      "metadata": {
        "colab": {
          "base_uri": "https://localhost:8080/"
        },
        "id": "KvwhhguqVGyV",
        "outputId": "8f85e1fa-a57d-4a56-85c7-67a34707f22f"
      },
      "execution_count": 44,
      "outputs": [
        {
          "output_type": "stream",
          "name": "stdout",
          "text": [
            "Requirement already satisfied: pylint in /usr/local/lib/python3.11/dist-packages (3.3.4)\n",
            "Requirement already satisfied: dill>=0.3.6 in /usr/local/lib/python3.11/dist-packages (from pylint) (0.3.9)\n",
            "Requirement already satisfied: platformdirs>=2.2.0 in /usr/local/lib/python3.11/dist-packages (from pylint) (4.3.6)\n",
            "Requirement already satisfied: astroid<=3.4.0-dev0,>=3.3.8 in /usr/local/lib/python3.11/dist-packages (from pylint) (3.3.8)\n",
            "Requirement already satisfied: isort!=5.13.0,<7,>=4.2.5 in /usr/local/lib/python3.11/dist-packages (from pylint) (6.0.1)\n",
            "Requirement already satisfied: mccabe<0.8,>=0.6 in /usr/local/lib/python3.11/dist-packages (from pylint) (0.7.0)\n",
            "Requirement already satisfied: tomlkit>=0.10.1 in /usr/local/lib/python3.11/dist-packages (from pylint) (0.13.2)\n"
          ]
        }
      ]
    },
    {
      "cell_type": "markdown",
      "source": [
        "# Imports"
      ],
      "metadata": {
        "id": "0vJPM6tha4Ee"
      }
    },
    {
      "cell_type": "code",
      "execution_count": 45,
      "metadata": {
        "id": "bLI5sbt4BKYQ"
      },
      "outputs": [],
      "source": [
        "import numpy as np\n",
        "import pandas as pd\n",
        "import tensorflow as tf\n",
        "from tensorflow.keras.models import Model\n",
        "from tensorflow.keras.layers import Input, Embedding, Conv1D, MaxPooling1D, Flatten, Dense, Dropout, Concatenate, GlobalMaxPooling1D, BatchNormalization\n",
        "from tensorflow.keras.preprocessing.text import Tokenizer\n",
        "from tensorflow.keras.preprocessing.sequence import pad_sequences\n",
        "from tensorflow.keras.callbacks import EarlyStopping\n",
        "from tensorflow.keras.regularizers import l2\n",
        "from tensorflow.keras.optimizers import Adam, RMSprop\n",
        "from tensorflow.keras.optimizers.schedules import ExponentialDecay\n",
        "from sklearn.model_selection import train_test_split\n",
        "from sklearn.utils.class_weight import compute_class_weight\n",
        "import re\n",
        "from io import BytesIO\n",
        "from tokenize import tokenize, COMMENT, NL\n",
        "import pickle\n",
        "import pylint\n",
        "import subprocess\n",
        "import os\n",
        "import tempfile\n",
        "import timeit\n",
        "import sys\n",
        "import ast"
      ]
    },
    {
      "cell_type": "markdown",
      "source": [
        "# Dataset for Code Readability\n",
        "\n",
        "https://www.kaggle.com/datasets/paakhim10/code-snippets-insights-and-readability"
      ],
      "metadata": {
        "id": "YHoKP_e0a6gu"
      }
    },
    {
      "cell_type": "code",
      "source": [
        "# load original dataset that was gathered for Phaaki\n",
        "df_temp = pd.read_csv('data_python.csv')\n",
        "\n",
        "# remove other non-needed columns\n",
        "df_temp = df_temp[['python_solutions', 'readability']]\n",
        "\n",
        "# change readability to binary\n",
        "df_temp['label'] = (df_temp['readability'] > 2.4).astype(int) #2.4 as the most reasonable threshold\n",
        "\n",
        "# remove main readability column\n",
        "df_temp = df_temp[['python_solutions', 'label']]\n",
        "\n",
        "# extract python codes \"python_solution\" and labels\n",
        "code_snippets = df_temp['python_solutions'].astype(str).tolist()\n",
        "labels = df_temp['label'].values\n",
        "\n",
        "# export incomplete data for code generating\n",
        "fixed_file_path = \"data_python_incomplete.csv\"\n",
        "df_temp.to_csv(fixed_file_path, index=False)"
      ],
      "metadata": {
        "id": "DY8_A2kPBcJE"
      },
      "execution_count": 137,
      "outputs": []
    },
    {
      "cell_type": "markdown",
      "source": [
        "After, export the \"data_python_incomplete\" and insert in the code generator.\n",
        "https://colab.research.google.com/drive/1EqmokAWMewjHJKkUu4wYmFfRW8vaT_VS?usp=sharing"
      ],
      "metadata": {
        "id": "ZehhLGmCy9Wi"
      }
    },
    {
      "cell_type": "markdown",
      "source": [
        "### Import the Python Complete from Code Generator"
      ],
      "metadata": {
        "id": "80Szz-Rpxf91"
      }
    },
    {
      "cell_type": "code",
      "source": [
        "# load complete data\n",
        "df = pd.read_csv('data_python_complete.csv')\n",
        "\n",
        "# keep important columns\n",
        "df = df[['python_solutions', 'label']]\n",
        "\n",
        "# check if labels are 0 and 1\n",
        "df['label'] = df['label'].astype(int)\n",
        "\n",
        "# extract python codes and labels\n",
        "pycode = df['python_solutions'].astype(str).tolist()\n",
        "labels = df['label'].values"
      ],
      "metadata": {
        "id": "qhRhX8QCBfMH"
      },
      "execution_count": 139,
      "outputs": []
    },
    {
      "cell_type": "code",
      "source": [
        "df.head()"
      ],
      "metadata": {
        "colab": {
          "base_uri": "https://localhost:8080/",
          "height": 206
        },
        "id": "XtSgwgGr56Dd",
        "outputId": "b16c0cfd-3454-4b0e-ec6d-66fc869fcc45"
      },
      "execution_count": 140,
      "outputs": [
        {
          "output_type": "execute_result",
          "data": {
            "text/plain": [
              "                                    python_solutions  label\n",
              "0  class Solution:\\n    def twoSum(self, nums: Li...      1\n",
              "1  class Solution:\\n    def lengthOfLongestSubstr...      1\n",
              "2  class Solution:\\n    def findMedianSortedArray...      1\n",
              "3  class Solution:\\n    def longestPalindrome(sel...      1\n",
              "4  class Solution:\\n    def convert(self, s: str,...      1"
            ],
            "text/html": [
              "\n",
              "  <div id=\"df-7213fc5e-ceb1-4a1f-9c0a-7bdac48360d0\" class=\"colab-df-container\">\n",
              "    <div>\n",
              "<style scoped>\n",
              "    .dataframe tbody tr th:only-of-type {\n",
              "        vertical-align: middle;\n",
              "    }\n",
              "\n",
              "    .dataframe tbody tr th {\n",
              "        vertical-align: top;\n",
              "    }\n",
              "\n",
              "    .dataframe thead th {\n",
              "        text-align: right;\n",
              "    }\n",
              "</style>\n",
              "<table border=\"1\" class=\"dataframe\">\n",
              "  <thead>\n",
              "    <tr style=\"text-align: right;\">\n",
              "      <th></th>\n",
              "      <th>python_solutions</th>\n",
              "      <th>label</th>\n",
              "    </tr>\n",
              "  </thead>\n",
              "  <tbody>\n",
              "    <tr>\n",
              "      <th>0</th>\n",
              "      <td>class Solution:\\n    def twoSum(self, nums: Li...</td>\n",
              "      <td>1</td>\n",
              "    </tr>\n",
              "    <tr>\n",
              "      <th>1</th>\n",
              "      <td>class Solution:\\n    def lengthOfLongestSubstr...</td>\n",
              "      <td>1</td>\n",
              "    </tr>\n",
              "    <tr>\n",
              "      <th>2</th>\n",
              "      <td>class Solution:\\n    def findMedianSortedArray...</td>\n",
              "      <td>1</td>\n",
              "    </tr>\n",
              "    <tr>\n",
              "      <th>3</th>\n",
              "      <td>class Solution:\\n    def longestPalindrome(sel...</td>\n",
              "      <td>1</td>\n",
              "    </tr>\n",
              "    <tr>\n",
              "      <th>4</th>\n",
              "      <td>class Solution:\\n    def convert(self, s: str,...</td>\n",
              "      <td>1</td>\n",
              "    </tr>\n",
              "  </tbody>\n",
              "</table>\n",
              "</div>\n",
              "    <div class=\"colab-df-buttons\">\n",
              "\n",
              "  <div class=\"colab-df-container\">\n",
              "    <button class=\"colab-df-convert\" onclick=\"convertToInteractive('df-7213fc5e-ceb1-4a1f-9c0a-7bdac48360d0')\"\n",
              "            title=\"Convert this dataframe to an interactive table.\"\n",
              "            style=\"display:none;\">\n",
              "\n",
              "  <svg xmlns=\"http://www.w3.org/2000/svg\" height=\"24px\" viewBox=\"0 -960 960 960\">\n",
              "    <path d=\"M120-120v-720h720v720H120Zm60-500h600v-160H180v160Zm220 220h160v-160H400v160Zm0 220h160v-160H400v160ZM180-400h160v-160H180v160Zm440 0h160v-160H620v160ZM180-180h160v-160H180v160Zm440 0h160v-160H620v160Z\"/>\n",
              "  </svg>\n",
              "    </button>\n",
              "\n",
              "  <style>\n",
              "    .colab-df-container {\n",
              "      display:flex;\n",
              "      gap: 12px;\n",
              "    }\n",
              "\n",
              "    .colab-df-convert {\n",
              "      background-color: #E8F0FE;\n",
              "      border: none;\n",
              "      border-radius: 50%;\n",
              "      cursor: pointer;\n",
              "      display: none;\n",
              "      fill: #1967D2;\n",
              "      height: 32px;\n",
              "      padding: 0 0 0 0;\n",
              "      width: 32px;\n",
              "    }\n",
              "\n",
              "    .colab-df-convert:hover {\n",
              "      background-color: #E2EBFA;\n",
              "      box-shadow: 0px 1px 2px rgba(60, 64, 67, 0.3), 0px 1px 3px 1px rgba(60, 64, 67, 0.15);\n",
              "      fill: #174EA6;\n",
              "    }\n",
              "\n",
              "    .colab-df-buttons div {\n",
              "      margin-bottom: 4px;\n",
              "    }\n",
              "\n",
              "    [theme=dark] .colab-df-convert {\n",
              "      background-color: #3B4455;\n",
              "      fill: #D2E3FC;\n",
              "    }\n",
              "\n",
              "    [theme=dark] .colab-df-convert:hover {\n",
              "      background-color: #434B5C;\n",
              "      box-shadow: 0px 1px 3px 1px rgba(0, 0, 0, 0.15);\n",
              "      filter: drop-shadow(0px 1px 2px rgba(0, 0, 0, 0.3));\n",
              "      fill: #FFFFFF;\n",
              "    }\n",
              "  </style>\n",
              "\n",
              "    <script>\n",
              "      const buttonEl =\n",
              "        document.querySelector('#df-7213fc5e-ceb1-4a1f-9c0a-7bdac48360d0 button.colab-df-convert');\n",
              "      buttonEl.style.display =\n",
              "        google.colab.kernel.accessAllowed ? 'block' : 'none';\n",
              "\n",
              "      async function convertToInteractive(key) {\n",
              "        const element = document.querySelector('#df-7213fc5e-ceb1-4a1f-9c0a-7bdac48360d0');\n",
              "        const dataTable =\n",
              "          await google.colab.kernel.invokeFunction('convertToInteractive',\n",
              "                                                    [key], {});\n",
              "        if (!dataTable) return;\n",
              "\n",
              "        const docLinkHtml = 'Like what you see? Visit the ' +\n",
              "          '<a target=\"_blank\" href=https://colab.research.google.com/notebooks/data_table.ipynb>data table notebook</a>'\n",
              "          + ' to learn more about interactive tables.';\n",
              "        element.innerHTML = '';\n",
              "        dataTable['output_type'] = 'display_data';\n",
              "        await google.colab.output.renderOutput(dataTable, element);\n",
              "        const docLink = document.createElement('div');\n",
              "        docLink.innerHTML = docLinkHtml;\n",
              "        element.appendChild(docLink);\n",
              "      }\n",
              "    </script>\n",
              "  </div>\n",
              "\n",
              "\n",
              "<div id=\"df-1392417a-e3d0-4137-8ae2-c85aaa4f6c05\">\n",
              "  <button class=\"colab-df-quickchart\" onclick=\"quickchart('df-1392417a-e3d0-4137-8ae2-c85aaa4f6c05')\"\n",
              "            title=\"Suggest charts\"\n",
              "            style=\"display:none;\">\n",
              "\n",
              "<svg xmlns=\"http://www.w3.org/2000/svg\" height=\"24px\"viewBox=\"0 0 24 24\"\n",
              "     width=\"24px\">\n",
              "    <g>\n",
              "        <path d=\"M19 3H5c-1.1 0-2 .9-2 2v14c0 1.1.9 2 2 2h14c1.1 0 2-.9 2-2V5c0-1.1-.9-2-2-2zM9 17H7v-7h2v7zm4 0h-2V7h2v10zm4 0h-2v-4h2v4z\"/>\n",
              "    </g>\n",
              "</svg>\n",
              "  </button>\n",
              "\n",
              "<style>\n",
              "  .colab-df-quickchart {\n",
              "      --bg-color: #E8F0FE;\n",
              "      --fill-color: #1967D2;\n",
              "      --hover-bg-color: #E2EBFA;\n",
              "      --hover-fill-color: #174EA6;\n",
              "      --disabled-fill-color: #AAA;\n",
              "      --disabled-bg-color: #DDD;\n",
              "  }\n",
              "\n",
              "  [theme=dark] .colab-df-quickchart {\n",
              "      --bg-color: #3B4455;\n",
              "      --fill-color: #D2E3FC;\n",
              "      --hover-bg-color: #434B5C;\n",
              "      --hover-fill-color: #FFFFFF;\n",
              "      --disabled-bg-color: #3B4455;\n",
              "      --disabled-fill-color: #666;\n",
              "  }\n",
              "\n",
              "  .colab-df-quickchart {\n",
              "    background-color: var(--bg-color);\n",
              "    border: none;\n",
              "    border-radius: 50%;\n",
              "    cursor: pointer;\n",
              "    display: none;\n",
              "    fill: var(--fill-color);\n",
              "    height: 32px;\n",
              "    padding: 0;\n",
              "    width: 32px;\n",
              "  }\n",
              "\n",
              "  .colab-df-quickchart:hover {\n",
              "    background-color: var(--hover-bg-color);\n",
              "    box-shadow: 0 1px 2px rgba(60, 64, 67, 0.3), 0 1px 3px 1px rgba(60, 64, 67, 0.15);\n",
              "    fill: var(--button-hover-fill-color);\n",
              "  }\n",
              "\n",
              "  .colab-df-quickchart-complete:disabled,\n",
              "  .colab-df-quickchart-complete:disabled:hover {\n",
              "    background-color: var(--disabled-bg-color);\n",
              "    fill: var(--disabled-fill-color);\n",
              "    box-shadow: none;\n",
              "  }\n",
              "\n",
              "  .colab-df-spinner {\n",
              "    border: 2px solid var(--fill-color);\n",
              "    border-color: transparent;\n",
              "    border-bottom-color: var(--fill-color);\n",
              "    animation:\n",
              "      spin 1s steps(1) infinite;\n",
              "  }\n",
              "\n",
              "  @keyframes spin {\n",
              "    0% {\n",
              "      border-color: transparent;\n",
              "      border-bottom-color: var(--fill-color);\n",
              "      border-left-color: var(--fill-color);\n",
              "    }\n",
              "    20% {\n",
              "      border-color: transparent;\n",
              "      border-left-color: var(--fill-color);\n",
              "      border-top-color: var(--fill-color);\n",
              "    }\n",
              "    30% {\n",
              "      border-color: transparent;\n",
              "      border-left-color: var(--fill-color);\n",
              "      border-top-color: var(--fill-color);\n",
              "      border-right-color: var(--fill-color);\n",
              "    }\n",
              "    40% {\n",
              "      border-color: transparent;\n",
              "      border-right-color: var(--fill-color);\n",
              "      border-top-color: var(--fill-color);\n",
              "    }\n",
              "    60% {\n",
              "      border-color: transparent;\n",
              "      border-right-color: var(--fill-color);\n",
              "    }\n",
              "    80% {\n",
              "      border-color: transparent;\n",
              "      border-right-color: var(--fill-color);\n",
              "      border-bottom-color: var(--fill-color);\n",
              "    }\n",
              "    90% {\n",
              "      border-color: transparent;\n",
              "      border-bottom-color: var(--fill-color);\n",
              "    }\n",
              "  }\n",
              "</style>\n",
              "\n",
              "  <script>\n",
              "    async function quickchart(key) {\n",
              "      const quickchartButtonEl =\n",
              "        document.querySelector('#' + key + ' button');\n",
              "      quickchartButtonEl.disabled = true;  // To prevent multiple clicks.\n",
              "      quickchartButtonEl.classList.add('colab-df-spinner');\n",
              "      try {\n",
              "        const charts = await google.colab.kernel.invokeFunction(\n",
              "            'suggestCharts', [key], {});\n",
              "      } catch (error) {\n",
              "        console.error('Error during call to suggestCharts:', error);\n",
              "      }\n",
              "      quickchartButtonEl.classList.remove('colab-df-spinner');\n",
              "      quickchartButtonEl.classList.add('colab-df-quickchart-complete');\n",
              "    }\n",
              "    (() => {\n",
              "      let quickchartButtonEl =\n",
              "        document.querySelector('#df-1392417a-e3d0-4137-8ae2-c85aaa4f6c05 button');\n",
              "      quickchartButtonEl.style.display =\n",
              "        google.colab.kernel.accessAllowed ? 'block' : 'none';\n",
              "    })();\n",
              "  </script>\n",
              "</div>\n",
              "\n",
              "    </div>\n",
              "  </div>\n"
            ],
            "application/vnd.google.colaboratory.intrinsic+json": {
              "type": "dataframe",
              "variable_name": "df",
              "summary": "{\n  \"name\": \"df\",\n  \"rows\": 2312,\n  \"fields\": [\n    {\n      \"column\": \"python_solutions\",\n      \"properties\": {\n        \"dtype\": \"string\",\n        \"num_unique_values\": 2312,\n        \"samples\": [\n          \"class Solution:\\n    def countTime(self, time: str) -> int:\\n        if '?' not in time: return 1\\n        hh,mm=time.split(':')\\n        tH,th=hh\\n        tM,tm=mm\\n        answ=0\\n        d='0123456789'\\n        for H in d:\\n            for h in d:\\n                for M in d:\\n                    for m in d:\\n                        Hh=int(H+h)\\n                        Mm=int(M+m)\\n                        if Hh<24 and Mm<60:\\n                            if H!=tH!='?' or h!=th!='?' or M!=tM!='?' or m!=tm!='?': continue\\n                            answ+=1\\n                            \\n        return answ\",\n          \"class Solution:\\n    def pushDominoes(self, dominoes: str) -> str:\\n        mp = [0]*len(dominoes)\\n        ii = len(dominoes)\\n        for i in reversed(range(len(dominoes))): \\n            if dominoes[i] != \\\".\\\": ii = i \\n            mp[i] = ii \\n            \\n        ans = []\\n        ii = -1 \\n        for i, x in enumerate(dominoes): \\n            if dominoes[i] in \\\"LR\\\": \\n                ans.append(dominoes[i])\\n                ii = i \\n            else: \\n                ll = \\\"L\\\" if ii == -1 else dominoes[ii]\\n                rr = \\\"R\\\" if mp[i] == len(dominoes) else dominoes[mp[i]]\\n                if ll == rr: ans.append(ll)\\n                elif ll == \\\"L\\\": ans.append(\\\".\\\")\\n                else: \\n                    if i - ii < mp[i] - i: ans.append(\\\"R\\\")\\n                    elif i - ii > mp[i] - i: ans.append(\\\"L\\\")\\n                    else: ans.append(\\\".\\\")\\n        return \\\"\\\".join(ans)\",\n          \"def compute():\\n  var8 = 27\\n    val29 = var8 * 2\\n   print(val29)\"\n        ],\n        \"semantic_type\": \"\",\n        \"description\": \"\"\n      }\n    },\n    {\n      \"column\": \"label\",\n      \"properties\": {\n        \"dtype\": \"number\",\n        \"std\": 0,\n        \"min\": 0,\n        \"max\": 1,\n        \"num_unique_values\": 2,\n        \"samples\": [\n          0,\n          1\n        ],\n        \"semantic_type\": \"\",\n        \"description\": \"\"\n      }\n    }\n  ]\n}"
            }
          },
          "metadata": {},
          "execution_count": 140
        }
      ]
    },
    {
      "cell_type": "markdown",
      "source": [
        "### Data Checking without Tokenization"
      ],
      "metadata": {
        "id": "LJWYDuzLbLFo"
      }
    },
    {
      "cell_type": "code",
      "source": [
        "print(df['label'].value_counts())\n",
        "df['label'].value_counts().plot(kind='bar', title=\"Class Distribution\", color=['green', 'red'])"
      ],
      "metadata": {
        "colab": {
          "base_uri": "https://localhost:8080/",
          "height": 558
        },
        "id": "Fz3_fvnzVVfK",
        "outputId": "d92daf07-469a-40ce-df18-7976061cdc0f"
      },
      "execution_count": 142,
      "outputs": [
        {
          "output_type": "stream",
          "name": "stdout",
          "text": [
            "label\n",
            "1    1312\n",
            "0    1000\n",
            "Name: count, dtype: int64\n"
          ]
        },
        {
          "output_type": "execute_result",
          "data": {
            "text/plain": [
              "<Axes: title={'center': 'Class Distribution'}, xlabel='label'>"
            ]
          },
          "metadata": {},
          "execution_count": 142
        },
        {
          "output_type": "display_data",
          "data": {
            "text/plain": [
              "<Figure size 640x480 with 1 Axes>"
            ],
            "image/png": "[encoded data removed]"
          },
          "metadata": {}
        }
      ]
    },
    {
      "cell_type": "markdown",
      "source": [
        "###  Tokenization"
      ],
      "metadata": {
        "id": "t4fp5fsLbEow"
      }
    },
    {
      "cell_type": "code",
      "source": [
        "def clean_python_code(code):\n",
        "    if not isinstance(code, str) or len(code.strip()) == 0:\n",
        "        return \"EMPTY_CODE\"\n",
        "\n",
        "    code = code.replace('\\t', '    ')\n",
        "    code = re.sub(r'#.*', '', code)\n",
        "    code = re.sub(r'\"\"\".*?\"\"\"|\\'\\'\\'.*?\\'\\'\\'', '', code, flags=re.DOTALL)\n",
        "    code = re.sub(r'(\\b(if|for|while|def|class)\\b[^\\n]*)(?<!:)\\n', r'\\1:\\n', code)\n",
        "    code = re.sub(r'(\\b(def|class)\\b[^\\n]*:)(\\n\\s*\\n)', r'\\1\\n    pass\\n', code)\n",
        "\n",
        "    code = re.sub(r'\\s*([,:\\])}])', r'\\1', code)\n",
        "    code = re.sub(r'([{[(])\\s*', r'\\1', code)\n",
        "\n",
        "    return code.strip()\n",
        "\n",
        "# apply function to dataset muna\n",
        "df['clean_python_solutions'] = df['python_solutions'].apply(clean_python_code)\n",
        "\n",
        "df = df.drop_duplicates(subset=['clean_python_solutions'], keep='first')\n",
        "df = df[df['clean_python_solutions'] != \"EMPTY_CODE\"]\n",
        "df = df.reset_index(drop=True)\n",
        "df['clean_python_solutions'] = df['python_solutions'].apply(clean_python_code)"
      ],
      "metadata": {
        "id": "1-r3Q6ReB0uv"
      },
      "execution_count": 143,
      "outputs": []
    },
    {
      "cell_type": "code",
      "source": [
        "print(df[['python_solutions', 'clean_python_solutions']].head(10))"
      ],
      "metadata": {
        "colab": {
          "base_uri": "https://localhost:8080/"
        },
        "id": "UpIud3Jr6gBE",
        "outputId": "2a254dd0-5b45-463b-b50c-3351941ff9ff"
      },
      "execution_count": 145,
      "outputs": [
        {
          "output_type": "stream",
          "name": "stdout",
          "text": [
            "                                    python_solutions  \\\n",
            "0  class Solution:\\n    def twoSum(self, nums: Li...   \n",
            "1  class Solution:\\n    def lengthOfLongestSubstr...   \n",
            "2  class Solution:\\n    def findMedianSortedArray...   \n",
            "3  class Solution:\\n    def longestPalindrome(sel...   \n",
            "4  class Solution:\\n    def convert(self, s: str,...   \n",
            "5  class Solution:\\n    def reverse(self, x: int)...   \n",
            "6  class Solution:\\n    def myAtoi(self, s: str) ...   \n",
            "7  class Solution:\\n    def isPalindrome(self, x:...   \n",
            "8  class Solution:\\n    @lru_cache\\n    def isMat...   \n",
            "9  class Solution:\\n    def maxArea(self, height:...   \n",
            "\n",
            "                              clean_python_solutions  \n",
            "0  class Solution:\\n    def twoSum(self, nums: Li...  \n",
            "1  class Solution:\\n    def lengthOfLongestSubstr...  \n",
            "2  class Solution:\\n    def findMedianSortedArray...  \n",
            "3  class Solution:\\n    def longestPalindrome(sel...  \n",
            "4  class Solution:\\n    def convert(self, s: str,...  \n",
            "5  class Solution:\\n    def reverse(self, x: int)...  \n",
            "6  class Solution:\\n    def myAtoi(self, s: str) ...  \n",
            "7  class Solution:\\n    def isPalindrome(self, x:...  \n",
            "8  class Solution:\\n    @lru_cache\\n    def isMat...  \n",
            "9  class Solution:\\n    def maxArea(self, height:...  \n"
          ]
        }
      ]
    },
    {
      "cell_type": "markdown",
      "source": [
        "### Data Checking with Tokenization"
      ],
      "metadata": {
        "id": "Q0_M0M6Rbbde"
      }
    },
    {
      "cell_type": "code",
      "source": [
        "print(df['label'].value_counts())\n",
        "df['label'].value_counts().plot(kind='pie', title=\"Label Pie\")"
      ],
      "metadata": {
        "colab": {
          "base_uri": "https://localhost:8080/",
          "height": 519
        },
        "id": "cbqm-RW8VbTV",
        "outputId": "c47cc09e-2e8a-49fd-9c46-8b11c66e0e40"
      },
      "execution_count": 146,
      "outputs": [
        {
          "output_type": "stream",
          "name": "stdout",
          "text": [
            "label\n",
            "1    1312\n",
            "0    1000\n",
            "Name: count, dtype: int64\n"
          ]
        },
        {
          "output_type": "execute_result",
          "data": {
            "text/plain": [
              "<Axes: title={'center': 'Label Pie'}, ylabel='count'>"
            ]
          },
          "metadata": {},
          "execution_count": 146
        },
        {
          "output_type": "display_data",
          "data": {
            "text/plain": [
              "<Figure size 640x480 with 1 Axes>"
            ],
            "image/png": "[encoded data removed]"
          },
          "metadata": {}
        }
      ]
    },
    {
      "cell_type": "markdown",
      "source": [
        "### More Tokenizing"
      ],
      "metadata": {
        "id": "JlHcvsembiiI"
      }
    },
    {
      "cell_type": "code",
      "source": [
        "# Tokenize\n",
        "max_vocab_size = 5000\n",
        "max_length = 500\n",
        "\n",
        "tokenizer = Tokenizer(num_words=max_vocab_size, oov_token=\"<OOV>\")\n",
        "tokenizer.fit_on_texts(df['clean_python_solutions'])\n",
        "sequences = tokenizer.texts_to_sequences(df['clean_python_solutions'])\n",
        "\n",
        "X = pad_sequences(sequences, maxlen=max_length, padding='post')\n",
        "X_train, X_test, y_train, y_test = train_test_split(X, df['label'].values, test_size=0.2, random_state=42)"
      ],
      "metadata": {
        "id": "b3UzuN16CBz-"
      },
      "execution_count": 147,
      "outputs": []
    },
    {
      "cell_type": "markdown",
      "source": [
        "### Last Checking of Data with Finalized Tokenizing"
      ],
      "metadata": {
        "id": "X9SP6oCnbmYg"
      }
    },
    {
      "cell_type": "code",
      "source": [
        "print(df['label'].value_counts())\n",
        "df['label'].value_counts().plot(kind='pie', title=\"Final Label Pie\")"
      ],
      "metadata": {
        "colab": {
          "base_uri": "https://localhost:8080/",
          "height": 519
        },
        "id": "ivp2sufjbtYj",
        "outputId": "f793239e-0649-47f7-f0d3-b8e983fba2f4"
      },
      "execution_count": 148,
      "outputs": [
        {
          "output_type": "stream",
          "name": "stdout",
          "text": [
            "label\n",
            "1    1312\n",
            "0    1000\n",
            "Name: count, dtype: int64\n"
          ]
        },
        {
          "output_type": "execute_result",
          "data": {
            "text/plain": [
              "<Axes: title={'center': 'Final Label Pie'}, ylabel='count'>"
            ]
          },
          "metadata": {},
          "execution_count": 148
        },
        {
          "output_type": "display_data",
          "data": {
            "text/plain": [
              "<Figure size 640x480 with 1 Axes>"
            ],
            "image/png": "[encoded data removed]"
          },
          "metadata": {}
        }
      ]
    },
    {
      "cell_type": "markdown",
      "source": [
        "### Creating the CNN Model for Code Readability\n",
        "\n",
        "This one is important because it is needed said in the instructions"
      ],
      "metadata": {
        "id": "0PuA__OpbzeW"
      }
    },
    {
      "cell_type": "code",
      "source": [
        "def create_cnn_model(filters=32):# increase filter by 64 of 16 for tweaking\n",
        "    inputs = Input(shape=(max_length,), name='cnn_input')\n",
        "    x = Embedding(input_dim=max_vocab_size, output_dim=128, input_length=max_length)(inputs)\n",
        "    x = Conv1D(filters=filters, kernel_size=3, activation='relu')(x)\n",
        "    x = MaxPooling1D(pool_size=2)(x)\n",
        "    x = Conv1D(filters=filters * 2, kernel_size=3, activation='relu')(x)\n",
        "    x = MaxPooling1D(pool_size=2)(x)\n",
        "    x = Flatten()(x)\n",
        "\n",
        "    x = Dense(128, activation='relu', kernel_regularizer=l2(0.01))(x)# increase L2 for tweaking\n",
        "    x = Dropout(0.4)(x)# increase or decrease dropout for tweaking\n",
        "    output_layer = Dense(1, activation='sigmoid')(x)\n",
        "\n",
        "    model = Model(inputs=inputs, outputs=output_layer)\n",
        "    return model\n",
        "\n",
        "# creating the model\n",
        "model = create_cnn_model()\n",
        "\n",
        "# Adam Optimizer with Exponential Decay\n",
        "lr_schedule = ExponentialDecay(initial_learning_rate=0.0003, decay_steps=1000, decay_rate=0.9)\n",
        "optimizer = Adam(learning_rate=lr_schedule)\n",
        "\n",
        "# compiling\n",
        "model.compile(optimizer=optimizer, loss='binary_crossentropy', metrics=['accuracy'])"
      ],
      "metadata": {
        "colab": {
          "base_uri": "https://localhost:8080/"
        },
        "id": "FayBWet8CHaC",
        "outputId": "ae463cff-4074-4982-b8da-600bf0f303df"
      },
      "execution_count": 149,
      "outputs": [
        {
          "output_type": "stream",
          "name": "stderr",
          "text": [
            "/usr/local/lib/python3.11/dist-packages/keras/src/layers/core/embedding.py:90: UserWarning: Argument `input_length` is deprecated. Just remove it.\n",
            "  warnings.warn(\n"
          ]
        }
      ]
    },
    {
      "cell_type": "code",
      "source": [
        "model.summary()"
      ],
      "metadata": {
        "colab": {
          "base_uri": "https://localhost:8080/",
          "height": 459
        },
        "id": "sEahp-cI7IMM",
        "outputId": "01533303-ca13-4c2b-fd11-f5bc5dc9050e"
      },
      "execution_count": 150,
      "outputs": [
        {
          "output_type": "display_data",
          "data": {
            "text/plain": [
              "\u001b[1mModel: \"functional_2\"\u001b[0m\n"
            ],
            "text/html": [
              "<pre style=\"white-space:pre;overflow-x:auto;line-height:normal;font-family:Menlo,'DejaVu Sans Mono',consolas,'Courier New',monospace\"><span style=\"font-weight: bold\">Model: \"functional_2\"</span>\n",
              "</pre>\n"
            ]
          },
          "metadata": {}
        },
        {
          "output_type": "display_data",
          "data": {
            "text/plain": [
              "┏━━━━━━━━━━━━━━━━━━━━━━━━━━━━━━━━━━━━━━┳━━━━━━━━━━━━━━━━━━━━━━━━━━━━━┳━━━━━━━━━━━━━━━━━┓\n",
              "┃\u001b[1m \u001b[0m\u001b[1mLayer (type)                        \u001b[0m\u001b[1m \u001b[0m┃\u001b[1m \u001b[0m\u001b[1mOutput Shape               \u001b[0m\u001b[1m \u001b[0m┃\u001b[1m \u001b[0m\u001b[1m        Param #\u001b[0m\u001b[1m \u001b[0m┃\n",
              "┡━━━━━━━━━━━━━━━━━━━━━━━━━━━━━━━━━━━━━━╇━━━━━━━━━━━━━━━━━━━━━━━━━━━━━╇━━━━━━━━━━━━━━━━━┩\n",
              "│ cnn_input (\u001b[38;5;33mInputLayer\u001b[0m)               │ (\u001b[38;5;45mNone\u001b[0m, \u001b[38;5;34m500\u001b[0m)                 │               \u001b[38;5;34m0\u001b[0m │\n",
              "├──────────────────────────────────────┼─────────────────────────────┼─────────────────┤\n",
              "│ embedding_2 (\u001b[38;5;33mEmbedding\u001b[0m)              │ (\u001b[38;5;45mNone\u001b[0m, \u001b[38;5;34m500\u001b[0m, \u001b[38;5;34m128\u001b[0m)            │         \u001b[38;5;34m640,000\u001b[0m │\n",
              "├──────────────────────────────────────┼─────────────────────────────┼─────────────────┤\n",
              "│ conv1d_4 (\u001b[38;5;33mConv1D\u001b[0m)                    │ (\u001b[38;5;45mNone\u001b[0m, \u001b[38;5;34m498\u001b[0m, \u001b[38;5;34m32\u001b[0m)             │          \u001b[38;5;34m12,320\u001b[0m │\n",
              "├──────────────────────────────────────┼─────────────────────────────┼─────────────────┤\n",
              "│ max_pooling1d_4 (\u001b[38;5;33mMaxPooling1D\u001b[0m)       │ (\u001b[38;5;45mNone\u001b[0m, \u001b[38;5;34m249\u001b[0m, \u001b[38;5;34m32\u001b[0m)             │               \u001b[38;5;34m0\u001b[0m │\n",
              "├──────────────────────────────────────┼─────────────────────────────┼─────────────────┤\n",
              "│ conv1d_5 (\u001b[38;5;33mConv1D\u001b[0m)                    │ (\u001b[38;5;45mNone\u001b[0m, \u001b[38;5;34m247\u001b[0m, \u001b[38;5;34m64\u001b[0m)             │           \u001b[38;5;34m6,208\u001b[0m │\n",
              "├──────────────────────────────────────┼─────────────────────────────┼─────────────────┤\n",
              "│ max_pooling1d_5 (\u001b[38;5;33mMaxPooling1D\u001b[0m)       │ (\u001b[38;5;45mNone\u001b[0m, \u001b[38;5;34m123\u001b[0m, \u001b[38;5;34m64\u001b[0m)             │               \u001b[38;5;34m0\u001b[0m │\n",
              "├──────────────────────────────────────┼─────────────────────────────┼─────────────────┤\n",
              "│ flatten_2 (\u001b[38;5;33mFlatten\u001b[0m)                  │ (\u001b[38;5;45mNone\u001b[0m, \u001b[38;5;34m7872\u001b[0m)                │               \u001b[38;5;34m0\u001b[0m │\n",
              "├──────────────────────────────────────┼─────────────────────────────┼─────────────────┤\n",
              "│ dense_4 (\u001b[38;5;33mDense\u001b[0m)                      │ (\u001b[38;5;45mNone\u001b[0m, \u001b[38;5;34m128\u001b[0m)                 │       \u001b[38;5;34m1,007,744\u001b[0m │\n",
              "├──────────────────────────────────────┼─────────────────────────────┼─────────────────┤\n",
              "│ dropout_2 (\u001b[38;5;33mDropout\u001b[0m)                  │ (\u001b[38;5;45mNone\u001b[0m, \u001b[38;5;34m128\u001b[0m)                 │               \u001b[38;5;34m0\u001b[0m │\n",
              "├──────────────────────────────────────┼─────────────────────────────┼─────────────────┤\n",
              "│ dense_5 (\u001b[38;5;33mDense\u001b[0m)                      │ (\u001b[38;5;45mNone\u001b[0m, \u001b[38;5;34m1\u001b[0m)                   │             \u001b[38;5;34m129\u001b[0m │\n",
              "└──────────────────────────────────────┴─────────────────────────────┴─────────────────┘\n"
            ],
            "text/html": [
              "<pre style=\"white-space:pre;overflow-x:auto;line-height:normal;font-family:Menlo,'DejaVu Sans Mono',consolas,'Courier New',monospace\">┏━━━━━━━━━━━━━━━━━━━━━━━━━━━━━━━━━━━━━━┳━━━━━━━━━━━━━━━━━━━━━━━━━━━━━┳━━━━━━━━━━━━━━━━━┓\n",
              "┃<span style=\"font-weight: bold\"> Layer (type)                         </span>┃<span style=\"font-weight: bold\"> Output Shape                </span>┃<span style=\"font-weight: bold\">         Param # </span>┃\n",
              "┡━━━━━━━━━━━━━━━━━━━━━━━━━━━━━━━━━━━━━━╇━━━━━━━━━━━━━━━━━━━━━━━━━━━━━╇━━━━━━━━━━━━━━━━━┩\n",
              "│ cnn_input (<span style=\"color: #0087ff; text-decoration-color: #0087ff\">InputLayer</span>)               │ (<span style=\"color: #00d7ff; text-decoration-color: #00d7ff\">None</span>, <span style=\"color: #00af00; text-decoration-color: #00af00\">500</span>)                 │               <span style=\"color: #00af00; text-decoration-color: #00af00\">0</span> │\n",
              "├──────────────────────────────────────┼─────────────────────────────┼─────────────────┤\n",
              "│ embedding_2 (<span style=\"color: #0087ff; text-decoration-color: #0087ff\">Embedding</span>)              │ (<span style=\"color: #00d7ff; text-decoration-color: #00d7ff\">None</span>, <span style=\"color: #00af00; text-decoration-color: #00af00\">500</span>, <span style=\"color: #00af00; text-decoration-color: #00af00\">128</span>)            │         <span style=\"color: #00af00; text-decoration-color: #00af00\">640,000</span> │\n",
              "├──────────────────────────────────────┼─────────────────────────────┼─────────────────┤\n",
              "│ conv1d_4 (<span style=\"color: #0087ff; text-decoration-color: #0087ff\">Conv1D</span>)                    │ (<span style=\"color: #00d7ff; text-decoration-color: #00d7ff\">None</span>, <span style=\"color: #00af00; text-decoration-color: #00af00\">498</span>, <span style=\"color: #00af00; text-decoration-color: #00af00\">32</span>)             │          <span style=\"color: #00af00; text-decoration-color: #00af00\">12,320</span> │\n",
              "├──────────────────────────────────────┼─────────────────────────────┼─────────────────┤\n",
              "│ max_pooling1d_4 (<span style=\"color: #0087ff; text-decoration-color: #0087ff\">MaxPooling1D</span>)       │ (<span style=\"color: #00d7ff; text-decoration-color: #00d7ff\">None</span>, <span style=\"color: #00af00; text-decoration-color: #00af00\">249</span>, <span style=\"color: #00af00; text-decoration-color: #00af00\">32</span>)             │               <span style=\"color: #00af00; text-decoration-color: #00af00\">0</span> │\n",
              "├──────────────────────────────────────┼─────────────────────────────┼─────────────────┤\n",
              "│ conv1d_5 (<span style=\"color: #0087ff; text-decoration-color: #0087ff\">Conv1D</span>)                    │ (<span style=\"color: #00d7ff; text-decoration-color: #00d7ff\">None</span>, <span style=\"color: #00af00; text-decoration-color: #00af00\">247</span>, <span style=\"color: #00af00; text-decoration-color: #00af00\">64</span>)             │           <span style=\"color: #00af00; text-decoration-color: #00af00\">6,208</span> │\n",
              "├──────────────────────────────────────┼─────────────────────────────┼─────────────────┤\n",
              "│ max_pooling1d_5 (<span style=\"color: #0087ff; text-decoration-color: #0087ff\">MaxPooling1D</span>)       │ (<span style=\"color: #00d7ff; text-decoration-color: #00d7ff\">None</span>, <span style=\"color: #00af00; text-decoration-color: #00af00\">123</span>, <span style=\"color: #00af00; text-decoration-color: #00af00\">64</span>)             │               <span style=\"color: #00af00; text-decoration-color: #00af00\">0</span> │\n",
              "├──────────────────────────────────────┼─────────────────────────────┼─────────────────┤\n",
              "│ flatten_2 (<span style=\"color: #0087ff; text-decoration-color: #0087ff\">Flatten</span>)                  │ (<span style=\"color: #00d7ff; text-decoration-color: #00d7ff\">None</span>, <span style=\"color: #00af00; text-decoration-color: #00af00\">7872</span>)                │               <span style=\"color: #00af00; text-decoration-color: #00af00\">0</span> │\n",
              "├──────────────────────────────────────┼─────────────────────────────┼─────────────────┤\n",
              "│ dense_4 (<span style=\"color: #0087ff; text-decoration-color: #0087ff\">Dense</span>)                      │ (<span style=\"color: #00d7ff; text-decoration-color: #00d7ff\">None</span>, <span style=\"color: #00af00; text-decoration-color: #00af00\">128</span>)                 │       <span style=\"color: #00af00; text-decoration-color: #00af00\">1,007,744</span> │\n",
              "├──────────────────────────────────────┼─────────────────────────────┼─────────────────┤\n",
              "│ dropout_2 (<span style=\"color: #0087ff; text-decoration-color: #0087ff\">Dropout</span>)                  │ (<span style=\"color: #00d7ff; text-decoration-color: #00d7ff\">None</span>, <span style=\"color: #00af00; text-decoration-color: #00af00\">128</span>)                 │               <span style=\"color: #00af00; text-decoration-color: #00af00\">0</span> │\n",
              "├──────────────────────────────────────┼─────────────────────────────┼─────────────────┤\n",
              "│ dense_5 (<span style=\"color: #0087ff; text-decoration-color: #0087ff\">Dense</span>)                      │ (<span style=\"color: #00d7ff; text-decoration-color: #00d7ff\">None</span>, <span style=\"color: #00af00; text-decoration-color: #00af00\">1</span>)                   │             <span style=\"color: #00af00; text-decoration-color: #00af00\">129</span> │\n",
              "└──────────────────────────────────────┴─────────────────────────────┴─────────────────┘\n",
              "</pre>\n"
            ]
          },
          "metadata": {}
        },
        {
          "output_type": "display_data",
          "data": {
            "text/plain": [
              "\u001b[1m Total params: \u001b[0m\u001b[38;5;34m1,666,401\u001b[0m (6.36 MB)\n"
            ],
            "text/html": [
              "<pre style=\"white-space:pre;overflow-x:auto;line-height:normal;font-family:Menlo,'DejaVu Sans Mono',consolas,'Courier New',monospace\"><span style=\"font-weight: bold\"> Total params: </span><span style=\"color: #00af00; text-decoration-color: #00af00\">1,666,401</span> (6.36 MB)\n",
              "</pre>\n"
            ]
          },
          "metadata": {}
        },
        {
          "output_type": "display_data",
          "data": {
            "text/plain": [
              "\u001b[1m Trainable params: \u001b[0m\u001b[38;5;34m1,666,401\u001b[0m (6.36 MB)\n"
            ],
            "text/html": [
              "<pre style=\"white-space:pre;overflow-x:auto;line-height:normal;font-family:Menlo,'DejaVu Sans Mono',consolas,'Courier New',monospace\"><span style=\"font-weight: bold\"> Trainable params: </span><span style=\"color: #00af00; text-decoration-color: #00af00\">1,666,401</span> (6.36 MB)\n",
              "</pre>\n"
            ]
          },
          "metadata": {}
        },
        {
          "output_type": "display_data",
          "data": {
            "text/plain": [
              "\u001b[1m Non-trainable params: \u001b[0m\u001b[38;5;34m0\u001b[0m (0.00 B)\n"
            ],
            "text/html": [
              "<pre style=\"white-space:pre;overflow-x:auto;line-height:normal;font-family:Menlo,'DejaVu Sans Mono',consolas,'Courier New',monospace\"><span style=\"font-weight: bold\"> Non-trainable params: </span><span style=\"color: #00af00; text-decoration-color: #00af00\">0</span> (0.00 B)\n",
              "</pre>\n"
            ]
          },
          "metadata": {}
        }
      ]
    },
    {
      "cell_type": "markdown",
      "source": [
        "### Training the Code Readability"
      ],
      "metadata": {
        "id": "zTLkQxpTb6Jx"
      }
    },
    {
      "cell_type": "code",
      "source": [
        "early_stopping = EarlyStopping(monitor='val_loss', patience=3, restore_best_weights=True)\n",
        "print(df['label'].value_counts())\n",
        "\n",
        "class_weights = compute_class_weight('balanced', classes=np.unique(y_train), y=y_train)\n",
        "class_weight_dict = {i: class_weights[i] for i in range(len(class_weights))}\n",
        "\n",
        "print(\"Class Weights:\", class_weight_dict)\n",
        "\n",
        "history = model.fit(\n",
        "    X_train,\n",
        "    y_train,\n",
        "    epochs=20,\n",
        "    batch_size=32,\n",
        "    validation_data=(X_test, y_test),\n",
        "    callbacks=[early_stopping],\n",
        "    class_weight=class_weight_dict\n",
        ")\n",
        "\n",
        "model.save(\"CRModel.keras\")"
      ],
      "metadata": {
        "colab": {
          "base_uri": "https://localhost:8080/"
        },
        "id": "vA48QDNcBi_V",
        "outputId": "a7c5d554-d09d-4395-ed4b-a4987c828eba"
      },
      "execution_count": 151,
      "outputs": [
        {
          "output_type": "stream",
          "name": "stdout",
          "text": [
            "label\n",
            "1    1312\n",
            "0    1000\n",
            "Name: count, dtype: int64\n",
            "Class Weights: {0: 1.1628930817610064, 1: 0.877134724857685}\n",
            "Epoch 1/20\n",
            "\u001b[1m58/58\u001b[0m \u001b[32m━━━━━━━━━━━━━━━━━━━━\u001b[0m\u001b[37m\u001b[0m \u001b[1m8s\u001b[0m 89ms/step - accuracy: 0.6764 - loss: 2.3349 - val_accuracy: 0.8877 - val_loss: 0.6214\n",
            "Epoch 2/20\n",
            "\u001b[1m58/58\u001b[0m \u001b[32m━━━━━━━━━━━━━━━━━━━━\u001b[0m\u001b[37m\u001b[0m \u001b[1m11s\u001b[0m 97ms/step - accuracy: 0.8676 - loss: 0.5972 - val_accuracy: 0.8985 - val_loss: 0.3501\n",
            "Epoch 3/20\n",
            "\u001b[1m58/58\u001b[0m \u001b[32m━━━━━━━━━━━━━━━━━━━━\u001b[0m\u001b[37m\u001b[0m \u001b[1m11s\u001b[0m 105ms/step - accuracy: 0.8956 - loss: 0.3730 - val_accuracy: 0.9222 - val_loss: 0.2970\n",
            "Epoch 4/20\n",
            "\u001b[1m58/58\u001b[0m \u001b[32m━━━━━━━━━━━━━━━━━━━━\u001b[0m\u001b[37m\u001b[0m \u001b[1m9s\u001b[0m 77ms/step - accuracy: 0.9057 - loss: 0.3052 - val_accuracy: 0.9093 - val_loss: 0.2820\n",
            "Epoch 5/20\n",
            "\u001b[1m58/58\u001b[0m \u001b[32m━━━━━━━━━━━━━━━━━━━━\u001b[0m\u001b[37m\u001b[0m \u001b[1m6s\u001b[0m 98ms/step - accuracy: 0.9220 - loss: 0.2710 - val_accuracy: 0.9028 - val_loss: 0.2816\n",
            "Epoch 6/20\n",
            "\u001b[1m58/58\u001b[0m \u001b[32m━━━━━━━━━━━━━━━━━━━━\u001b[0m\u001b[37m\u001b[0m \u001b[1m9s\u001b[0m 81ms/step - accuracy: 0.9360 - loss: 0.2143 - val_accuracy: 0.9136 - val_loss: 0.2989\n",
            "Epoch 7/20\n",
            "\u001b[1m58/58\u001b[0m \u001b[32m━━━━━━━━━━━━━━━━━━━━\u001b[0m\u001b[37m\u001b[0m \u001b[1m5s\u001b[0m 92ms/step - accuracy: 0.9434 - loss: 0.1912 - val_accuracy: 0.9028 - val_loss: 0.3164\n",
            "Epoch 8/20\n",
            "\u001b[1m58/58\u001b[0m \u001b[32m━━━━━━━━━━━━━━━━━━━━\u001b[0m\u001b[37m\u001b[0m \u001b[1m10s\u001b[0m 97ms/step - accuracy: 0.9716 - loss: 0.1333 - val_accuracy: 0.8920 - val_loss: 0.3357\n"
          ]
        }
      ]
    },
    {
      "cell_type": "markdown",
      "source": [
        "### Tokenizer saving"
      ],
      "metadata": {
        "id": "nzzXr8Abb_0A"
      }
    },
    {
      "cell_type": "code",
      "source": [
        "# Save the tokenizer to a file\n",
        "tokenizer_path = \"/content/python_tokenizer.pkl\"  # Colab\n",
        "with open(tokenizer_path, \"wb\") as handle:\n",
        "    pickle.dump(tokenizer, handle)\n",
        "\n",
        "print(f\"Tokenizer saved at {tokenizer_path}\")"
      ],
      "metadata": {
        "colab": {
          "base_uri": "https://localhost:8080/"
        },
        "id": "rRSfjWsoVlXB",
        "outputId": "c43649b5-246e-49ee-d5cc-4a8c9eef7fdb"
      },
      "execution_count": 152,
      "outputs": [
        {
          "output_type": "stream",
          "name": "stdout",
          "text": [
            "Tokenizer saved at /content/python_tokenizer.pkl\n"
          ]
        }
      ]
    },
    {
      "cell_type": "markdown",
      "source": [
        "### Accuracy Checking"
      ],
      "metadata": {
        "id": "z0Qt7f-AcH77"
      }
    },
    {
      "cell_type": "code",
      "source": [
        "# Evaluate the model on test data\n",
        "test_loss, test_acc = model.evaluate(X_test, y_test)\n",
        "\n",
        "# Print final accuracy and loss\n",
        "print(f\"\\nFinal Test Accuracy: {test_acc:.4f}\")\n",
        "print(f\"Final Test Loss: {test_loss:.4f}\")"
      ],
      "metadata": {
        "colab": {
          "base_uri": "https://localhost:8080/"
        },
        "id": "C4qsitWsCWwA",
        "outputId": "01fe42ae-9b46-4e90-aa10-b0a98998d55e"
      },
      "execution_count": 153,
      "outputs": [
        {
          "output_type": "stream",
          "name": "stdout",
          "text": [
            "\u001b[1m15/15\u001b[0m \u001b[32m━━━━━━━━━━━━━━━━━━━━\u001b[0m\u001b[37m\u001b[0m \u001b[1m0s\u001b[0m 24ms/step - accuracy: 0.8979 - loss: 0.2966\n",
            "\n",
            "Final Test Accuracy: 0.9028\n",
            "Final Test Loss: 0.2816\n"
          ]
        }
      ]
    },
    {
      "cell_type": "markdown",
      "source": [
        "### Data Checking for Readable data and Predicted data"
      ],
      "metadata": {
        "id": "Zf0BX0C4crH-"
      }
    },
    {
      "cell_type": "code",
      "source": [
        "#Readable data\n",
        "actual_readable = (df['label'] == 1).sum()\n",
        "actual_unreadable = (df['label'] == 0).sum()\n",
        "print(f\"Actual Readable: {actual_readable}/{len(df)}\")\n",
        "print(f\"Actual Unreadable: {actual_unreadable}/{len(df)}\")\n",
        "\n",
        "# Get predictions for ALL data, not just X_test\n",
        "predictions = model.predict(X)  # Use full dataset `X`\n",
        "\n",
        "# Convert predictions to binary (readable/unreadable)\n",
        "pred_labels = (predictions > 0.5).astype(int).flatten()\n",
        "\n",
        "# Count predicted values\n",
        "readable_count = (pred_labels == 1).sum()\n",
        "unreadable_count = (pred_labels == 0).sum()\n",
        "\n",
        "# Print results\n",
        "print(f\"\\nPredicted Readable: {readable_count}/{len(X)}\")\n",
        "print(f\"Predicted Unreadable: {unreadable_count}/{len(X)}\")"
      ],
      "metadata": {
        "colab": {
          "base_uri": "https://localhost:8080/"
        },
        "id": "xdnyS7niDuQg",
        "outputId": "4a218911-a8c1-4b84-96bb-0f1f8fae041e"
      },
      "execution_count": 154,
      "outputs": [
        {
          "output_type": "stream",
          "name": "stdout",
          "text": [
            "Actual Readable: 1312/2312\n",
            "Actual Unreadable: 1000/2312\n",
            "\u001b[1m73/73\u001b[0m \u001b[32m━━━━━━━━━━━━━━━━━━━━\u001b[0m\u001b[37m\u001b[0m \u001b[1m1s\u001b[0m 16ms/step\n",
            "\n",
            "Predicted Readable: 1390/2312\n",
            "Predicted Unreadable: 922/2312\n"
          ]
        }
      ]
    },
    {
      "cell_type": "markdown",
      "source": [
        "### Labeling and Checking"
      ],
      "metadata": {
        "id": "tBRzTC08cxCk"
      }
    },
    {
      "cell_type": "code",
      "source": [
        "df['pred_label'] = pred_labels  # Add predictions to DataFrame\n",
        "df['correct'] = (df['pred_label'] == df['label']).astype(int)\n",
        "\n",
        "# Show some misclassified samples\n",
        "misclassified = df[df['correct'] == 0]\n",
        "print(misclassified[['python_solutions', 'label', 'pred_label']].head(10))"
      ],
      "metadata": {
        "colab": {
          "base_uri": "https://localhost:8080/"
        },
        "id": "ODjmE1iAVzIU",
        "outputId": "53dc6203-ab81-456a-85aa-3d2dd274555d"
      },
      "execution_count": 158,
      "outputs": [
        {
          "output_type": "stream",
          "name": "stdout",
          "text": [
            "                                      python_solutions  label  pred_label\n",
            "8    class Solution:\\n    @lru_cache\\n    def isMat...      0           1\n",
            "10   class Solution:\\n    def intToRoman(self, num:...      0           1\n",
            "53   class Solution:\\n    def reorderList(self, hea...      0           1\n",
            "103  class Solution:\\n    def containsNearbyAlmostD...      0           1\n",
            "110  class Solution:\\n    def majorityElement(self,...      0           1\n",
            "141  class Solution:\\n    def removeInvalidParenthe...      0           1\n",
            "142  class Solution:\\n    def isAdditiveNumber(self...      0           1\n",
            "154  class Solution:\\n    def isPowerOfThree(self, ...      0           1\n",
            "159  class Solution:\\n    def isValidSerialization(...      0           1\n",
            "163  class Solution:\\n    def palindromePairs(self,...      0           1\n"
          ]
        }
      ]
    },
    {
      "cell_type": "markdown",
      "source": [
        "### Determining the Prediction for Code Readability"
      ],
      "metadata": {
        "id": "_E_v1Bkyc4hQ"
      }
    },
    {
      "cell_type": "code",
      "source": [
        "def predict_readability(python_code):\n",
        "\n",
        "    # Ensure tokenizer is loaded\n",
        "    global tokenizer\n",
        "    if tokenizer is None:\n",
        "        print(\"Error: Tokenizer is not initialized.\")\n",
        "        return \"Tokenizer is missing. Please train the model first.\"\n",
        "\n",
        "    # Clean the input code snippet (ensure clean_code() is defined)\n",
        "    cleaned_python_code = clean_python_code(python_code)\n",
        "\n",
        "    # Tokenize and pad sequence\n",
        "    sequence = tokenizer.texts_to_sequences([cleaned_python_code])\n",
        "    padded_sequence = pad_sequences(sequence, maxlen=500, padding='post')\n",
        "\n",
        "    # Predict readability (Make sure the model expects 3 inputs)\n",
        "    prediction = model.predict([padded_sequence])\n",
        "    score = prediction[0][0]  # Extract predicted score\n",
        "\n",
        "    # Determine readability\n",
        "    if score > 0.5:\n",
        "        message = \" The given code snippet is ✅READABLE✅.\"\n",
        "    else:\n",
        "        message = \" The given code snippet is ❌UNREADABLE❌.\"\n",
        "\n",
        "    return message"
      ],
      "metadata": {
        "id": "NE34dMaDDzOY"
      },
      "execution_count": 159,
      "outputs": []
    },
    {
      "cell_type": "markdown",
      "source": [
        "### Sample Readable Code"
      ],
      "metadata": {
        "id": "L_pSAv-Jc_lj"
      }
    },
    {
      "cell_type": "code",
      "source": [
        "sample_readable = df[df['label'] == 1].sample(1)['python_solutions'].values[0]\n",
        "print(\"Sample Readable Code:\\n\", sample_readable)\n",
        "print(predict_readability(sample_readable))"
      ],
      "metadata": {
        "colab": {
          "base_uri": "https://localhost:8080/"
        },
        "id": "3s0vnShVD1ZN",
        "outputId": "62dd1b44-a1b0-42b6-e475-1b024b33d2c6"
      },
      "execution_count": 166,
      "outputs": [
        {
          "output_type": "stream",
          "name": "stdout",
          "text": [
            "Sample Readable Code:\n",
            " class Solution:\n",
            "    def interpret(self, command: str) -> str:\n",
            "        res = \"\"\n",
            "        i = 0\n",
            "        while i < len(command):\n",
            "            if command[i] == \"G\":\n",
            "                res += \"G\"\n",
            "                i += 1\n",
            "            elif command[i] == \"(\" and command[i+1] == \")\":\n",
            "                res += \"o\"\n",
            "                i += 2\n",
            "            else:\n",
            "                res += \"al\"\n",
            "                i += 4\n",
            "        return res\n",
            "\u001b[1m1/1\u001b[0m \u001b[32m━━━━━━━━━━━━━━━━━━━━\u001b[0m\u001b[37m\u001b[0m \u001b[1m0s\u001b[0m 41ms/step\n",
            " The given code snippet is ✅READABLE✅.\n"
          ]
        }
      ]
    },
    {
      "cell_type": "markdown",
      "source": [
        "### Sample Unreadable Code"
      ],
      "metadata": {
        "id": "e4eh1hIjdCZc"
      }
    },
    {
      "cell_type": "code",
      "source": [
        "sample_unreadable = df[df['label'] == 0].sample(1)['python_solutions'].values[0]\n",
        "print(\"Sample Unreadable Code:\\n\", sample_unreadable)\n",
        "print(predict_readability(sample_unreadable))"
      ],
      "metadata": {
        "colab": {
          "base_uri": "https://localhost:8080/"
        },
        "id": "Je955biLQm63",
        "outputId": "fc062eea-6843-42b4-c051-a6bfbbc7cc22"
      },
      "execution_count": 167,
      "outputs": [
        {
          "output_type": "stream",
          "name": "stdout",
          "text": [
            "Sample Unreadable Code:\n",
            " while var26 < 25:\n",
            "print(var26)\n",
            "var26 += 1\n",
            "\u001b[1m1/1\u001b[0m \u001b[32m━━━━━━━━━━━━━━━━━━━━\u001b[0m\u001b[37m\u001b[0m \u001b[1m0s\u001b[0m 41ms/step\n",
            " The given code snippet is ❌UNREADABLE❌.\n"
          ]
        }
      ]
    },
    {
      "cell_type": "markdown",
      "source": [
        "### Code Readability Testing with User Input"
      ],
      "metadata": {
        "id": "YjjynBTGdE-a"
      }
    },
    {
      "cell_type": "code",
      "source": [
        "readable_code = \"\"\"\n",
        "asdasdasdasdfffffasdasd\n",
        "\"\"\"\n",
        "\n",
        "print(predict_readability(readable_code))"
      ],
      "metadata": {
        "colab": {
          "base_uri": "https://localhost:8080/"
        },
        "id": "yqQt1nqQFsai",
        "outputId": "759d6bbb-9e39-4bc0-abe4-7f37b2c7c003"
      },
      "execution_count": 170,
      "outputs": [
        {
          "output_type": "stream",
          "name": "stdout",
          "text": [
            "\u001b[1m1/1\u001b[0m \u001b[32m━━━━━━━━━━━━━━━━━━━━\u001b[0m\u001b[37m\u001b[0m \u001b[1m0s\u001b[0m 38ms/step\n",
            " The given code snippet is ❌UNREADABLE❌.\n"
          ]
        }
      ]
    },
    {
      "cell_type": "markdown",
      "source": [
        "# Bug Localization\n"
      ],
      "metadata": {
        "id": "oK4iGGx9V68N"
      }
    },
    {
      "cell_type": "code",
      "source": [
        "# checking bugs using the pylint lib .txt saving\n",
        "def check_bugs(code, temp_file_path, output_filename=\"bug_report.txt\"):\n",
        "    if not code:\n",
        "        return \"No code extracted.\"\n",
        "    result = subprocess.run([\"pylint\", \"--disable=all\", \"--enable=E,F\", temp_file_path],\n",
        "                            capture_output=True, text=True, check=False)\n",
        "\n",
        "    os.remove(temp_file_path)\n",
        "    return f\"\\nBug report saved at \\n{result.stdout}\"\n",
        "\n",
        "# temp\n",
        "def temp_file(code):\n",
        "    temp_file = tempfile.NamedTemporaryFile(delete=False, suffix=\".py\", mode=\"w\")\n",
        "    temp_file.write(code)\n",
        "    temp_file_path = temp_file.name\n",
        "    temp_file.close()\n",
        "    return temp_file_path"
      ],
      "metadata": {
        "id": "GHRW-uyJV9AX"
      },
      "execution_count": 112,
      "outputs": []
    },
    {
      "cell_type": "code",
      "source": [
        "# model loading\n",
        "def load_model_and_tokenizer():\n",
        "    global model, tokenizer\n",
        "    model = tf.keras.models.load_model(MODEL_PATH)\n",
        "    with open(TOKENIZER_PATH, \"rb\") as handle:\n",
        "        tokenizer = pickle.load(handle)"
      ],
      "metadata": {
        "id": "oUZ0MUrdex0r"
      },
      "execution_count": 171,
      "outputs": []
    },
    {
      "cell_type": "code",
      "source": [
        "import ast\n",
        "\n",
        "# Readability Prediction Function\n",
        "def predict_readability(code_snippet):\n",
        "    # Check for syntax errors first\n",
        "    try:\n",
        "        ast.parse(code_snippet)  # Try parsing the code\n",
        "    except SyntaxError:\n",
        "        return \"❌UNREADABLE❌\"  # If it can't be parsed, it's unreadable\n",
        "\n",
        "    # Try executing the code to check if it's functional\n",
        "    try:\n",
        "        exec(code_snippet, {}, {})  # Run code in an isolated scope\n",
        "    except Exception:  # Catch any runtime errors\n",
        "        return \"❌UNREADABLE❌\"\n",
        "\n",
        "    return \"✅READABLE✅\"  # If execution succeeds, it's readable\n"
      ],
      "metadata": {
        "id": "BNZa5BcMey00"
      },
      "execution_count": 172,
      "outputs": []
    },
    {
      "cell_type": "code",
      "source": [
        "# Bug Detection using Pylint\n",
        "def check_bugs(code):\n",
        "    \"\"\"Run pylint on the provided code snippet and return formatted results.\"\"\"\n",
        "    try:\n",
        "        with tempfile.NamedTemporaryFile(delete=False, suffix=\".py\", mode=\"w\") as temp_file:\n",
        "            temp_file.write(code)\n",
        "            temp_file_path = temp_file.name\n",
        "\n",
        "        result = subprocess.run([\n",
        "            \"pylint\", \"--disable=all\", \"--enable=E,F\", temp_file_path\n",
        "        ], capture_output=True, text=True, check=False)\n",
        "\n",
        "        os.remove(temp_file_path)\n",
        "        output = result.stdout.strip()\n",
        "\n",
        "        if \"E\" in output or \"F\" in output:\n",
        "            return f\"❌ Bugs Found:\\n{output}\"\n",
        "        else:\n",
        "            return \"✅ Code is clean! No major issues detected.\"\n",
        "\n",
        "    except FileNotFoundError:\n",
        "        return \"⚠️ Pylint is missing! Install it with: `pip install pylint`.\"\n",
        "    except Exception as e:\n",
        "        return f\"⚠️ Error running Pylint: {str(e)}\"\n"
      ],
      "metadata": {
        "id": "JVk2yjUme0IS"
      },
      "execution_count": 173,
      "outputs": []
    },
    {
      "cell_type": "code",
      "source": [
        "# Time & Space Complexity Analysis\n",
        "def measure_complexity(code):\n",
        "    exec_globals = {}\n",
        "    indented_code = \"\\n    \".join(code.splitlines())\n",
        "    wrapped_code = f\"def temp_function():\\n    {indented_code}\"\n",
        "    try:\n",
        "        exec(wrapped_code, exec_globals)\n",
        "        temp_function = exec_globals[\"temp_function\"]\n",
        "        execution_time = timeit.timeit(temp_function, number=1000)\n",
        "        memory_usage = sys.getsizeof(temp_function)\n",
        "        return f\" Execution Time: {execution_time:.6f} sec\\n Memory Usage: {memory_usage} bytes\"\n",
        "    except Exception as e:\n",
        "        return f\"⚠️ Error in complexity analysis: {str(e)}\""
      ],
      "metadata": {
        "id": "TcujFvoMe1TB"
      },
      "execution_count": 174,
      "outputs": []
    },
    {
      "cell_type": "code",
      "source": [
        "# Driver function\n",
        "def analyze_code(code_snippet):\n",
        "    print(\"\\n Bug Detection:\")\n",
        "    print(check_bugs(code_snippet))\n",
        "\n",
        "    print(\"\\n Readability Analysis:\")\n",
        "    print(predict_readability(code_snippet))\n",
        "\n",
        "    print(\"\\n Time & Space Complexity:\")\n",
        "    print(measure_complexity(code_snippet))"
      ],
      "metadata": {
        "id": "fc1XOETve2ls"
      },
      "execution_count": 175,
      "outputs": []
    },
    {
      "cell_type": "code",
      "source": [
        "# Load the trained model and tokenizer\n",
        "MODEL_PATH = \"CRModel.keras\"\n",
        "TOKENIZER_PATH = \"python_tokenizer.pkl\""
      ],
      "metadata": {
        "id": "lnxaAV6Xe3iS"
      },
      "execution_count": 176,
      "outputs": []
    },
    {
      "cell_type": "code",
      "source": [
        "# Example Code Snippet for Testing\n",
        "example_code = \"\"\"\n",
        "class Solution:\n",
        "    def countSegments(self, s: str) -> int:\n",
        "        count = 0\n",
        "        for i in range(len(s)):\n",
        "            if s[i] != \" \" and (i==0 or s[i-1]== \" \"):\n",
        "                count+=1\n",
        "\n",
        "        return count\n",
        "\"\"\"\n",
        "\n",
        "# Load model & tokenizer, then analyze the code snippet\n",
        "load_model_and_tokenizer()\n",
        "analyze_code(example_code)"
      ],
      "metadata": {
        "colab": {
          "base_uri": "https://localhost:8080/"
        },
        "id": "t_OmYwnWWFU4",
        "outputId": "f1ba8810-ba86-4eba-8a46-1e7022860bf4"
      },
      "execution_count": 179,
      "outputs": [
        {
          "output_type": "stream",
          "name": "stdout",
          "text": [
            "\n",
            " Bug Detection:\n",
            "✅ Code is clean! No major issues detected.\n",
            "\n",
            " Readability Analysis:\n",
            "✅READABLE✅\n",
            "\n",
            " Time & Space Complexity:\n",
            " Execution Time: 0.007938 sec\n",
            " Memory Usage: 152 bytes\n"
          ]
        }
      ]
    },
    {
      "cell_type": "code",
      "source": [],
      "metadata": {
        "id": "WWJ9WNWvq3UD"
      },
      "execution_count": null,
      "outputs": []
    }
  ]
}