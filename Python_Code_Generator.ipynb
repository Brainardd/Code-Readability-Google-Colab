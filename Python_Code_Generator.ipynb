{
  "nbformat": 4,
  "nbformat_minor": 0,
  "metadata": {
    "colab": {
      "provenance": []
    },
    "kernelspec": {
      "name": "python3",
      "display_name": "Python 3"
    },
    "language_info": {
      "name": "python"
    }
  },
  "cells": [
    {
      "cell_type": "code",
      "execution_count": 4,
      "metadata": {
        "id": "oC5iuoSZfZ3x"
      },
      "outputs": [],
      "source": [
        "import random\n",
        "import pandas as pd\n",
        "import os"
      ]
    },
    {
      "cell_type": "code",
      "source": [
        "# Readable Python Snippets\n",
        "readable_python = [\n",
        "    'def factorial(n):\\n    return 1 if n == 0 else n * factorial(n - 1)\\nprint(factorial(5))',\n",
        "    'fruits = [\"apple\", \"banana\", \"cherry\"]\\nprint(\", \".join(fruits))',\n",
        "    'def reverse_string(s):\\n    return s[::-1]\\nprint(reverse_string(\"hello\"))',\n",
        "    'nums = [3, 1, 4, 1, 5, 9]\\nprint(sorted(nums))',\n",
        "    'from datetime import datetime\\nnow = datetime.now()\\nprint(now.strftime(\"%Y-%m-%d %H:%M:%S\"))',\n",
        "    'squares = [x ** 2 for x in range(10)]\\nprint(squares)',\n",
        "    'def fibonacci(n):\\n    a, b = 0, 1\\n    for _ in range(n):\\n        print(a, end=\" \")\\n        a, b = b, a + b\\nprint(fibonacci(10))',\n",
        "    'import random\\nprint(random.choice([\"rock\", \"paper\", \"scissors\"]))',\n",
        "    'def count_vowels(s):\\n    return sum(1 for c in s.lower() if c in \"aeiou\")\\nprint(count_vowels(\"hello world\"))',\n",
        "    'ages = {\"Alice\": 25, \"Bob\": 30, \"Charlie\": 22}\\nprint(max(ages, key=ages.get))',\n",
        "    'sentence = \"Python is fun\"\\nprint(sentence.split())',\n",
        "    'def is_even(n):\\n    return n % 2 == 0\\nprint(is_even(10))',\n",
        "    'matrix = [[1, 2, 3], [4, 5, 6], [7, 8, 9]]\\nfor row in matrix:\\n    print(row)',\n",
        "    'import math\\nprint(math.sqrt(16))',\n",
        "    'def celsius_to_kelvin(c):\\n    return c + 273.15\\nprint(celsius_to_kelvin(25))',\n",
        "    'word = \"level\"\\nprint(word == word[::-1])',\n",
        "    'def unique_elements(lst):\\n    return list(set(lst))\\nprint(unique_elements([1, 2, 2, 3, 4, 4]))',\n",
        "    'import time\\ntime.sleep(2)\\nprint(\"Done!\")',\n",
        "    'colors = [\"red\", \"green\", \"blue\"]\\nfor i, color in enumerate(colors):\\n    print(f\"{i}: {color}\")',\n",
        "    'evens = list(filter(lambda x: x % 2 == 0, range(10)))\\nprint(evens)',\n",
        "    'def greet():\\n    print(\"Hello, welcome!\")\\ngreet()',\n",
        "    'nums = [2, 4, 6, 8]\\nprint(max(nums))',\n",
        "    'temp_c = 25\\ntemp_f = (temp_c * 9/5) + 32\\nprint(f\"{temp_c}C is {temp_f}F\")',\n",
        "    'from math import pi\\nradius = 5\\narea = pi * radius**2\\nprint(f\"Area of circle: {area}\")',\n",
        "    'def square_root(n):\\n    return n ** 0.5',\n",
        "    'names = [\"Anna\", \"Eve\", \"Liam\"]\\nprint(sorted(names))',\n",
        "    'text = \"hello world\"\\ncapitalized = text.title()\\nprint(capitalized)',\n",
        "    'def is_prime(n):\\n    if n < 2:\\n        return False\\n    for i in range(2, int(n**0.5) + 1):\\n        if n % i == 0:\\n            return False\\n    return True',\n",
        "    'print(list(range(1, 11)))',\n",
        "    'def sum_digits(n):\\n    return sum(int(digit) for digit in str(n))',\n",
        "    'pets = {\"dog\": \"bark\", \"cat\": \"meow\"}\\nfor pet, sound in pets.items():\\n    print(f\"A {pet} goes {sound}\")',\n",
        "    'for i in range(1, 6):\\n    print(\"*\" * i)',\n",
        "    'def even_numbers(n):\\n    return [i for i in range(n) if i % 2 == 0]',\n",
        "    'password = \"P@ssw0rd\"\\nprint(\"Valid\" if len(password) >= 8 else \"Too short\")',\n",
        "    'words = [\"hello\", \"world\", \"python\"]\\nprint(len(words))',\n",
        "    'def convert_km_to_miles(km):\\n    return km * 0.621371',\n",
        "    'from random import randint\\nprint(randint(1, 100))',\n",
        "    'word = \"radar\"\\nprint(f\"Is {word} a palindrome?\", word == word[::-1])',\n",
        "    'scores = [85, 90, 78, 92]\\naverage = sum(scores) / len(scores)\\nprint(f\"Average score: {average}\")'\n",
        "]"
      ],
      "metadata": {
        "id": "mjrXF1O7l0uz"
      },
      "execution_count": 22,
      "outputs": []
    },
    {
      "cell_type": "code",
      "source": [
        "categories = {\n",
        "    \"indentation\": [\n",
        "        'def compute():\\n  x = 10\\n    y = x * 2\\n   print(y)',\n",
        "        'while True:\\n    print(\"Looping\")\\n        print(\"Still looping\")'\n",
        "    ],\n",
        "    \"syntax\": [\n",
        "        'print \"Hello, world!\"',\n",
        "        'if x == 5 { print(\"Five\") }'\n",
        "    ],\n",
        "    \"variables\": [\n",
        "        'ab_cd_e = 42\\nXY__ZZ = 58\\nprint(ab_cd_e + XY__ZZ)',\n",
        "        'def foo(BB_yy, Zz_AA): return BB_yy*Zz_AA\\nprint(foo(3, 4))'\n",
        "    ],\n",
        "    \"oneliners\": [\n",
        "        'x,y,z=1,2,3; print(x*y*z)',\n",
        "        'for n in range(4):print(n)n+=1'\n",
        "    ],\n",
        "    \"special_chars\": [\n",
        "        'word = \"★✪❖\"\\nprint(word)',\n",
        "        'symbols = \"@#$%^&*\"\\nprint(symbols)'\n",
        "    ],\n",
        "    \"nested_logic\": [\n",
        "        'def deep():\\n for i in range(3):\\n  for j in range(3):\\n   for k in range(3):print(i+j+k)',\n",
        "        'for a in range(2):\\n    for b in range(2):\\n        for c in range(2):print(a,b,c)'\n",
        "    ],\n",
        "    \"incorrect_ops\": [\n",
        "        'result = 8 ** print(3)',\n",
        "        'value = 12 // 3 + 4 *'\n",
        "    ],\n",
        "    \"lambda_misuse\": [\n",
        "        'multiply = lambda x, y: x * y\\nprint(multiply(3))',\n",
        "        'divide = lambda x: x / 0\\nprint(divide(10))'\n",
        "    ],\n",
        "    \"improper_loops\": [\n",
        "        'while x < 10:\\nprint(x)\\nx += 1',\n",
        "        'for i in range(5): print(i) print(i**2)'\n",
        "    ],\n",
        "    \"wrong_comparisons\": [\n",
        "        'if 10 = x:\\n    print(\"Equal\")',\n",
        "        'while x >< 5:\\n    print(\"Looping\")'\n",
        "    ],\n",
        "    \"misused_functions\": [\n",
        "        'len = 100\\nprint(len(\"text\"))',\n",
        "        'list = [1,2,3]\\nprint(list(4))'\n",
        "    ],\n",
        "    \"missing_parentheses\": [\n",
        "        'print \"Missing brackets\"',\n",
        "        'sum = (10 + 20 * 3'\n",
        "    ],\n",
        "    \"bad_variable_names\": [\n",
        "        '123name = \"error\"',\n",
        "        'def break():\\n    return 5'\n",
        "    ]\n",
        "}\n"
      ],
      "metadata": {
        "id": "LcuS3S2aki5_"
      },
      "execution_count": 23,
      "outputs": []
    },
    {
      "cell_type": "code",
      "source": [
        "# Function to Randomize Variables & Numbers in Unreadable Python Code\n",
        "def randomize_python(pycode):\n",
        "    return (\n",
        "        pycode.replace(\"x\", f\"var{random.randint(1, 99)}\")\n",
        "        .replace(\"y\", f\"val{random.randint(1, 99)}\")\n",
        "        .replace(\"10\", str(random.randint(1, 50)))\n",
        "        .replace(\"20\", str(random.randint(51, 100)))\n",
        "        .replace(\"30\", str(random.randint(101, 200)))\n",
        "    )"
      ],
      "metadata": {
        "id": "YbLASkYmkonq"
      },
      "execution_count": 24,
      "outputs": []
    },
    {
      "cell_type": "code",
      "source": [
        "# desired number of unreadable py code\n",
        "desired_unreadable_count = 1000"
      ],
      "metadata": {
        "id": "ro6F3XGRmYOQ"
      },
      "execution_count": 25,
      "outputs": []
    },
    {
      "cell_type": "code",
      "source": [
        "import random\n",
        "import pandas as pd\n",
        "\n",
        "# Function to dynamically generate unreadable python code\n",
        "def generate_unreadable_python(desired_count):\n",
        "    unique_python = set()\n",
        "\n",
        "    while len(unique_python) < desired_count:\n",
        "        category = random.choice(list(categories.keys()))\n",
        "        pycode = random.choice(categories[category])\n",
        "        unique_python.add(randomize_python(pycode))\n",
        "\n",
        "    return list(unique_python)\n",
        "\n",
        "# Generate unreadable python\n",
        "desired_unreadable_count = 592  # Change if needed\n",
        "final_unreadable_python = generate_unreadable_python(desired_unreadable_count)\n",
        "\n",
        "# If fewer than 72 readable python exist, use all available ones\n",
        "num_readable = len(readable_python)  # Take all if fewer than 72\n",
        "final_readable_python = readable_python  # No sampling needed\n",
        "\n",
        "print(f\"Selected {num_readable} readable python (out of {len(readable_python)} available).\")\n",
        "\n",
        "# Create DataFrame with Readable and Unreadable python\n",
        "final_python_df = pd.DataFrame({\n",
        "    \"python_solutions\": final_readable_python + final_unreadable_python,\n",
        "    \"label\": [1] * num_readable + [0] * len(final_unreadable_python)  # Dynamic labeling\n",
        "})\n",
        "\n",
        "# Print dataset summary\n",
        "print(f\"Final dataset size: {len(final_python_df)} (Readable: {num_readable}, Unreadable: {len(final_unreadable_python)})\")\n"
      ],
      "metadata": {
        "colab": {
          "base_uri": "https://localhost:8080/"
        },
        "id": "g5I_Sw5hkr52",
        "outputId": "bedaa303-8870-4487-c68f-b20628682f73"
      },
      "execution_count": 30,
      "outputs": [
        {
          "output_type": "stream",
          "name": "stdout",
          "text": [
            "Selected 39 readable python (out of 39 available).\n",
            "Final dataset size: 631 (Readable: 39, Unreadable: 592)\n"
          ]
        }
      ]
    },
    {
      "cell_type": "code",
      "source": [
        "# Check for Duplicates Before Merging\n",
        "if len(final_python_df) != len(final_python_df.drop_duplicates()):\n",
        "    print(\"Warning: Duplicate python code found!\")\n",
        "\n",
        "# Define file paths in Colab\n",
        "existing_file_path = \"/content/data_python_incomplete.csv\"\n",
        "updated_file_path = \"/content/data_python_complete.csv\"\n",
        "\n",
        "# Load Existing Dataset (If It Exists)\n",
        "if os.path.isfile(existing_file_path):\n",
        "    df = pd.read_csv(existing_file_path)\n",
        "    print(\"Loaded existing dataset.\")\n",
        "else:\n",
        "    df = pd.DataFrame(columns=[\"python_solutions\", \"label\"])\n",
        "    print(\"No existing dataset found. Creating a new one.\")\n",
        "\n",
        "# Append to Original Dataset\n",
        "final_balanced_df = pd.concat([df, final_python_df], ignore_index=True)\n",
        "\n",
        "# Save Updated Dataset to Colab\n",
        "final_balanced_df.to_csv(updated_file_path, index=False)\n",
        "print(f\"Updated dataset saved to: {updated_file_path}\")"
      ],
      "metadata": {
        "colab": {
          "base_uri": "https://localhost:8080/"
        },
        "id": "Ea8cJovmnLYP",
        "outputId": "d3128ab7-878e-463a-f75b-2018974ec336"
      },
      "execution_count": 31,
      "outputs": [
        {
          "output_type": "stream",
          "name": "stdout",
          "text": [
            "Loaded existing dataset.\n",
            "Updated dataset saved to: /content/data_python_complete.csv\n"
          ]
        }
      ]
    }
  ]
}